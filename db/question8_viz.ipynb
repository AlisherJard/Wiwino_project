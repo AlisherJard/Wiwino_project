{
 "cells": [
  {
   "cell_type": "code",
   "id": "initial_id",
   "metadata": {
    "collapsed": true,
    "ExecuteTime": {
     "end_time": "2024-08-28T13:51:46.538157Z",
     "start_time": "2024-08-28T13:51:46.519066Z"
    }
   },
   "source": [
    "import pandas as pd\n",
    "import seaborn as sns\n",
    "import matplotlib.pyplot as plt\n",
    "\n",
    "df = pd.read_csv('question8.csv')\n",
    "df.head()"
   ],
   "outputs": [
    {
     "data": {
      "text/plain": [
       "  Countries        Keywords  Ratings_Average\n",
       "0    Italie   incense smoke             4.57\n",
       "1    Italie      green bean             4.55\n",
       "2    Italie       wild iris             4.53\n",
       "3    Italie     coconut oil             4.53\n",
       "4    Italie  roasted pepper             4.52"
      ],
      "text/html": [
       "<div>\n",
       "<style scoped>\n",
       "    .dataframe tbody tr th:only-of-type {\n",
       "        vertical-align: middle;\n",
       "    }\n",
       "\n",
       "    .dataframe tbody tr th {\n",
       "        vertical-align: top;\n",
       "    }\n",
       "\n",
       "    .dataframe thead th {\n",
       "        text-align: right;\n",
       "    }\n",
       "</style>\n",
       "<table border=\"1\" class=\"dataframe\">\n",
       "  <thead>\n",
       "    <tr style=\"text-align: right;\">\n",
       "      <th></th>\n",
       "      <th>Countries</th>\n",
       "      <th>Keywords</th>\n",
       "      <th>Ratings_Average</th>\n",
       "    </tr>\n",
       "  </thead>\n",
       "  <tbody>\n",
       "    <tr>\n",
       "      <th>0</th>\n",
       "      <td>Italie</td>\n",
       "      <td>incense smoke</td>\n",
       "      <td>4.57</td>\n",
       "    </tr>\n",
       "    <tr>\n",
       "      <th>1</th>\n",
       "      <td>Italie</td>\n",
       "      <td>green bean</td>\n",
       "      <td>4.55</td>\n",
       "    </tr>\n",
       "    <tr>\n",
       "      <th>2</th>\n",
       "      <td>Italie</td>\n",
       "      <td>wild iris</td>\n",
       "      <td>4.53</td>\n",
       "    </tr>\n",
       "    <tr>\n",
       "      <th>3</th>\n",
       "      <td>Italie</td>\n",
       "      <td>coconut oil</td>\n",
       "      <td>4.53</td>\n",
       "    </tr>\n",
       "    <tr>\n",
       "      <th>4</th>\n",
       "      <td>Italie</td>\n",
       "      <td>roasted pepper</td>\n",
       "      <td>4.52</td>\n",
       "    </tr>\n",
       "  </tbody>\n",
       "</table>\n",
       "</div>"
      ]
     },
     "execution_count": 78,
     "metadata": {},
     "output_type": "execute_result"
    }
   ],
   "execution_count": 78
  },
  {
   "metadata": {
    "ExecuteTime": {
     "end_time": "2024-08-28T13:51:46.551483Z",
     "start_time": "2024-08-28T13:51:46.539692Z"
    }
   },
   "cell_type": "code",
   "source": [
    "italie= df[df['Countries'] == 'Italie']\n",
    "\n",
    "top_5_italie = italie.sort_values(by='Ratings_Average', ascending=False).head(5)\n",
    "\n",
    "top_5_italie\n"
   ],
   "id": "6caac3e2a0087d9b",
   "outputs": [
    {
     "data": {
      "text/plain": [
       "  Countries        Keywords  Ratings_Average\n",
       "0    Italie   incense smoke             4.57\n",
       "1    Italie      green bean             4.55\n",
       "2    Italie       wild iris             4.53\n",
       "3    Italie     coconut oil             4.53\n",
       "4    Italie  roasted pepper             4.52"
      ],
      "text/html": [
       "<div>\n",
       "<style scoped>\n",
       "    .dataframe tbody tr th:only-of-type {\n",
       "        vertical-align: middle;\n",
       "    }\n",
       "\n",
       "    .dataframe tbody tr th {\n",
       "        vertical-align: top;\n",
       "    }\n",
       "\n",
       "    .dataframe thead th {\n",
       "        text-align: right;\n",
       "    }\n",
       "</style>\n",
       "<table border=\"1\" class=\"dataframe\">\n",
       "  <thead>\n",
       "    <tr style=\"text-align: right;\">\n",
       "      <th></th>\n",
       "      <th>Countries</th>\n",
       "      <th>Keywords</th>\n",
       "      <th>Ratings_Average</th>\n",
       "    </tr>\n",
       "  </thead>\n",
       "  <tbody>\n",
       "    <tr>\n",
       "      <th>0</th>\n",
       "      <td>Italie</td>\n",
       "      <td>incense smoke</td>\n",
       "      <td>4.57</td>\n",
       "    </tr>\n",
       "    <tr>\n",
       "      <th>1</th>\n",
       "      <td>Italie</td>\n",
       "      <td>green bean</td>\n",
       "      <td>4.55</td>\n",
       "    </tr>\n",
       "    <tr>\n",
       "      <th>2</th>\n",
       "      <td>Italie</td>\n",
       "      <td>wild iris</td>\n",
       "      <td>4.53</td>\n",
       "    </tr>\n",
       "    <tr>\n",
       "      <th>3</th>\n",
       "      <td>Italie</td>\n",
       "      <td>coconut oil</td>\n",
       "      <td>4.53</td>\n",
       "    </tr>\n",
       "    <tr>\n",
       "      <th>4</th>\n",
       "      <td>Italie</td>\n",
       "      <td>roasted pepper</td>\n",
       "      <td>4.52</td>\n",
       "    </tr>\n",
       "  </tbody>\n",
       "</table>\n",
       "</div>"
      ]
     },
     "execution_count": 79,
     "metadata": {},
     "output_type": "execute_result"
    }
   ],
   "execution_count": 79
  },
  {
   "metadata": {
    "ExecuteTime": {
     "end_time": "2024-08-28T13:51:46.556491Z",
     "start_time": "2024-08-28T13:51:46.552100Z"
    }
   },
   "cell_type": "code",
   "source": [
    "espagne= df[df['Countries'] == 'Espagne']\n",
    "\n",
    "top_5_espagne = espagne.sort_values(by='Ratings_Average', ascending=False).head(5)\n",
    "\n",
    "top_5_espagne"
   ],
   "id": "f57ca45c4e207288",
   "outputs": [
    {
     "data": {
      "text/plain": [
       "   Countries              Keywords  Ratings_Average\n",
       "5    Espagne              key lime             4.52\n",
       "6    Espagne  sweet and sour sauce             4.50\n",
       "24   Espagne             pie crust             4.48\n",
       "26   Espagne             sugarplum             4.47\n",
       "30   Espagne         volcanic rock             4.46"
      ],
      "text/html": [
       "<div>\n",
       "<style scoped>\n",
       "    .dataframe tbody tr th:only-of-type {\n",
       "        vertical-align: middle;\n",
       "    }\n",
       "\n",
       "    .dataframe tbody tr th {\n",
       "        vertical-align: top;\n",
       "    }\n",
       "\n",
       "    .dataframe thead th {\n",
       "        text-align: right;\n",
       "    }\n",
       "</style>\n",
       "<table border=\"1\" class=\"dataframe\">\n",
       "  <thead>\n",
       "    <tr style=\"text-align: right;\">\n",
       "      <th></th>\n",
       "      <th>Countries</th>\n",
       "      <th>Keywords</th>\n",
       "      <th>Ratings_Average</th>\n",
       "    </tr>\n",
       "  </thead>\n",
       "  <tbody>\n",
       "    <tr>\n",
       "      <th>5</th>\n",
       "      <td>Espagne</td>\n",
       "      <td>key lime</td>\n",
       "      <td>4.52</td>\n",
       "    </tr>\n",
       "    <tr>\n",
       "      <th>6</th>\n",
       "      <td>Espagne</td>\n",
       "      <td>sweet and sour sauce</td>\n",
       "      <td>4.50</td>\n",
       "    </tr>\n",
       "    <tr>\n",
       "      <th>24</th>\n",
       "      <td>Espagne</td>\n",
       "      <td>pie crust</td>\n",
       "      <td>4.48</td>\n",
       "    </tr>\n",
       "    <tr>\n",
       "      <th>26</th>\n",
       "      <td>Espagne</td>\n",
       "      <td>sugarplum</td>\n",
       "      <td>4.47</td>\n",
       "    </tr>\n",
       "    <tr>\n",
       "      <th>30</th>\n",
       "      <td>Espagne</td>\n",
       "      <td>volcanic rock</td>\n",
       "      <td>4.46</td>\n",
       "    </tr>\n",
       "  </tbody>\n",
       "</table>\n",
       "</div>"
      ]
     },
     "execution_count": 80,
     "metadata": {},
     "output_type": "execute_result"
    }
   ],
   "execution_count": 80
  },
  {
   "metadata": {
    "ExecuteTime": {
     "end_time": "2024-08-28T13:51:46.634284Z",
     "start_time": "2024-08-28T13:51:46.557504Z"
    }
   },
   "cell_type": "code",
   "source": [
    "sns.barplot(x='Ratings_Average', y='Keywords', data=top_5_espagne, palette='plasma')\n",
    "plt.xlabel('Average Rating')\n",
    "plt.title('Top 5 Keywords for Spanish Wines')\n",
    "plt.xlim(4, top_5_espagne['Ratings_Average'].max() + 0.1)\n"
   ],
   "id": "962b849d7caab8a8",
   "outputs": [
    {
     "data": {
      "text/plain": [
       "(4.0, 4.619999999999999)"
      ]
     },
     "execution_count": 81,
     "metadata": {},
     "output_type": "execute_result"
    },
    {
     "data": {
      "text/plain": [
       "<Figure size 640x480 with 1 Axes>"
      ],
      "image/png": "[encoded data removed]"
     },
     "metadata": {},
     "output_type": "display_data"
    }
   ],
   "execution_count": 81
  },
  {
   "metadata": {
    "ExecuteTime": {
     "end_time": "2024-08-28T13:51:46.725317Z",
     "start_time": "2024-08-28T13:51:46.635697Z"
    }
   },
   "cell_type": "code",
   "source": [
    "sns.barplot(x='Ratings_Average', y='Keywords', data=top_5_italie, palette='plasma')\n",
    "plt.xlabel('Average Rating')\n",
    "plt.title('Top 5 Keywords for Italian Wines')\n",
    "plt.xlim(4, top_5_espagne['Ratings_Average'].max() + 0.1)"
   ],
   "id": "4242b3ab890382af",
   "outputs": [
    {
     "data": {
      "text/plain": [
       "(4.0, 4.619999999999999)"
      ]
     },
     "execution_count": 82,
     "metadata": {},
     "output_type": "execute_result"
    },
    {
     "data": {
      "text/plain": [
       "<Figure size 640x480 with 1 Axes>"
      ],
      "image/png": "[encoded data removed]"
     },
     "metadata": {},
     "output_type": "display_data"
    }
   ],
   "execution_count": 82
  }
 ],
 "metadata": {
  "kernelspec": {
   "display_name": "Python 3",
   "language": "python",
   "name": "python3"
  },
  "language_info": {
   "codemirror_mode": {
    "name": "ipython",
    "version": 2
   },
   "file_extension": ".py",
   "mimetype": "text/x-python",
   "name": "python",
   "nbconvert_exporter": "python",
   "pygments_lexer": "ipython2",
   "version": "2.7.6"
  }
 },
 "nbformat": 4,
 "nbformat_minor": 5
}
