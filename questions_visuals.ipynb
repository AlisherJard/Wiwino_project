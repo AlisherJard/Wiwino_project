{
 "cells": [
  {
   "cell_type": "markdown",
   "metadata": {},
   "source": [
    "### Question 1: Select 10 wines to push in order to increase sales"
   ]
  },
  {
   "cell_type": "code",
   "execution_count": 1,
   "metadata": {},
   "outputs": [
    {
     "name": "stdout",
     "output_type": "stream",
     "text": [
      "                                        vintage_name     country  \\\n",
      "0  San Marzano 60 Sessantanni Old Vines Primitivo...      Italie   \n",
      "1         Tenuta Ulisse Limited Edition 10 Vendemmie      Italie   \n",
      "2          Matarromera Ribera del Duero Reserva 2018     Espagne   \n",
      "3                                 Rutini Malbec 2019   Argentine   \n",
      "4                           Gitana Lupi Rezerva 2016    Moldavie   \n",
      "5                     Pago de Carraovejas Tinto 2020     Espagne   \n",
      "6    Zenato Amarone della Valpolicella Classico 2017      Italie   \n",
      "7          Laurent-Perrier Brut Cuvée Champagne Rosé      France   \n",
      "8  Buena Vista Chateau Buena Vista Cabernet Sauvi...  États-Unis   \n",
      "9                                   Pintia Toro 2017     Espagne   \n",
      "\n",
      "   popularity_score  value_for_money  combined_rank  popularity_rank  \\\n",
      "0         43.858119        52.775606           19.0              7.0   \n",
      "1         41.193393        49.342105           28.5             19.0   \n",
      "2         38.013408        41.301627           51.5             46.0   \n",
      "3         34.542170        63.485956           56.5            100.0   \n",
      "4         34.273276        55.066079           66.5            105.0   \n",
      "5         34.485334        39.289872           81.5            101.0   \n",
      "6         35.862059        31.791908           81.5             76.0   \n",
      "7         46.244062        22.916667           85.0              2.0   \n",
      "8         36.345031        26.634383           99.5             67.0   \n",
      "9         35.849640        26.828299          104.0             78.0   \n",
      "\n",
      "   value_rank  vintage_ratings_average  vintage_rating_count  \\\n",
      "0        31.0                      4.5                 17090   \n",
      "1        38.0                      4.5                  9453   \n",
      "2        57.0                      4.4                  5650   \n",
      "3        13.0                      4.4                  2567   \n",
      "4        28.0                      4.5                  2031   \n",
      "5        62.0                      4.5                  2129   \n",
      "6        87.0                      4.4                  3465   \n",
      "7       168.0                      4.4                 36681   \n",
      "8       132.0                      4.4                  3867   \n",
      "9       130.0                      4.5                  2883   \n",
      "\n",
      "   liter_price_euros  \n",
      "0          42.633333  \n",
      "1          45.600000  \n",
      "2          53.266667  \n",
      "3          34.653333  \n",
      "4          40.860000  \n",
      "5          57.266667  \n",
      "6          69.200000  \n",
      "7          96.000000  \n",
      "8          82.600000  \n",
      "9          83.866667  \n"
     ]
    },
    {
     "name": "stderr",
     "output_type": "stream",
     "text": [
      "c:\\Users\\cngue\\AppData\\Local\\Programs\\Python\\Python312\\Lib\\site-packages\\pandas\\core\\arraylike.py:399: RuntimeWarning: divide by zero encountered in log\n",
      "  result = getattr(ufunc, method)(*inputs, **kwargs)\n"
     ]
    }
   ],
   "source": [
    "import numpy as np\n",
    "import pandas as pd\n",
    "\n",
    "selection_sales_df = pd.read_csv('CSVs/query_01.csv')\n",
    "\n",
    "# Calculation of the Popularity Score per wine\n",
    "selection_sales_df['popularity_score'] = selection_sales_df['vintage_ratings_average'] * np.log(selection_sales_df['vintage_rating_count'])\n",
    "\n",
    "# Calculation of the Value for Money\n",
    "selection_sales_df['value_for_money'] = selection_sales_df['vintage_ratings_average'] / selection_sales_df['liter_price_euros'] * 500\n",
    "\n",
    "# Establishing a ranking by Popularity Score\n",
    "selection_sales_df['popularity_rank'] = selection_sales_df['popularity_score'].rank(ascending=False, method='min')\n",
    "\n",
    "# Establishing a ranking by Value for Money\n",
    "selection_sales_df['value_rank'] = selection_sales_df['value_for_money'].rank(ascending=False, method='min')\n",
    "\n",
    "# Average rank of Popularity Score and Value for Money\n",
    "selection_sales_df['combined_rank'] = (selection_sales_df['popularity_rank'] + selection_sales_df['value_rank']) / 2\n",
    "\n",
    "# Dropping the duplicated based on wine_name\n",
    "selection_sales_df = selection_sales_df.sort_values('combined_rank').drop_duplicates(subset='wine_name')\n",
    "\n",
    "# Sorting by combined rank within each country and selecting the top three wines from each country\n",
    "top_wines_by_country = selection_sales_df.sort_values('combined_rank').groupby('country').head(3).reset_index(drop=True)\n",
    "\n",
    "# Sorting the selected wines by the combined rank and picking the top 10\n",
    "top_10_sales = top_wines_by_country.sort_values('combined_rank').head(10)\n",
    "\n",
    "# Displaying the selected wines\n",
    "top_10_sales = top_10_sales[['vintage_name', 'country', 'popularity_score', 'value_for_money', 'combined_rank', 'popularity_rank', 'value_rank', 'vintage_ratings_average', 'vintage_rating_count', 'liter_price_euros']]\n",
    "print(top_10_sales[['vintage_name', 'country', 'popularity_score', 'value_for_money', 'combined_rank', 'popularity_rank', 'value_rank', 'vintage_ratings_average', 'vintage_rating_count', 'liter_price_euros']])\n"
   ]
  },
  {
   "cell_type": "markdown",
   "metadata": {},
   "source": [
    "### Question 1: Plotting the rankings"
   ]
  },
  {
   "cell_type": "code",
   "execution_count": 2,
   "metadata": {},
   "outputs": [
    {
     "data": {
      "image/png": "[encoded data removed]",
      "text/plain": [
       "<Figure size 1600x1000 with 1 Axes>"
      ]
     },
     "metadata": {},
     "output_type": "display_data"
    }
   ],
   "source": [
    "import matplotlib.pyplot as plt\n",
    "import seaborn as sns\n",
    "\n",
    "# Ensuring the DataFrame is sorted by 'combined_rank' before melting\n",
    "top_10_sales_sorted = top_10_sales.sort_values(by='combined_rank', ascending=True)\n",
    "\n",
    "# Creating a new column combining wine name and country\n",
    "top_10_sales_sorted[\"name_and_country\"] = top_10_sales_sorted.apply(\n",
    "    lambda row: f\"{row['vintage_name']} - {row['country'].upper()}\", axis=1\n",
    ")\n",
    "\n",
    "# Melting the DataFrame for easier plotting\n",
    "top_10_melted = top_10_sales_sorted.melt(id_vars=['name_and_country'], value_vars=['combined_rank', 'popularity_rank', 'value_rank'], var_name='rank_type', value_name='rank_value')\n",
    "\n",
    "plt.figure(figsize=(16, 10))\n",
    "\n",
    "# Creating the bar plot\n",
    "sns.barplot(data=top_10_melted, x='name_and_country', y='rank_value', hue='rank_type', palette='viridis', dodge=True, order=top_10_sales_sorted['name_and_country'])\n",
    "\n",
    "# Customizing the plot\n",
    "plt.xticks(rotation=45, ha='right')\n",
    "plt.title('Top 10 Wines: Ranks by Type and Country')\n",
    "plt.xlabel('Vintage Name')\n",
    "plt.ylabel('Rank Value')\n",
    "plt.legend(title='Rank Type')\n",
    "\n",
    "plt.tight_layout()\n",
    "plt.show()\n",
    "\n"
   ]
  },
  {
   "cell_type": "markdown",
   "metadata": {},
   "source": [
    "### Question 1: Interactive bar chart"
   ]
  },
  {
   "cell_type": "code",
   "execution_count": 3,
   "metadata": {},
   "outputs": [
    {
     "data": {
      "application/vnd.plotly.v1+json": {
       "config": {
        "plotlyServerURL": "https://plot.ly"
       },
       "data": [
        {
         "alignmentgroup": "True",
         "customdata": [
          [
           4.5,
           17090,
           42.63333333333333
          ],
          [
           4.5,
           9453,
           45.6
          ],
          [
           4.4,
           5650,
           53.26666666666667
          ],
          [
           4.4,
           2567,
           34.653333333333336
          ],
          [
           4.5,
           2031,
           40.86
          ],
          [
           4.5,
           2129,
           57.266666666666666
          ],
          [
           4.4,
           3465,
           69.2
          ],
          [
           4.4,
           36681,
           96
          ],
          [
           4.4,
           3867,
           82.60000000000001
          ],
          [
           4.5,
           2883,
           83.86666666666666
          ]
         ],
         "hovertemplate": "ranking type=combined_rank<br>name_and_country=%{x}<br>rank_value=%{y}<br>vintage_ratings_average=%{customdata[0]}<br>vintage_rating_count=%{customdata[1]}<br>liter_price_euros=%{customdata[2]}<extra></extra>",
         "legendgroup": "combined_rank",
         "marker": {
          "color": "#00224e",
          "pattern": {
           "shape": ""
          }
         },
         "name": "combined_rank",
         "offsetgroup": "combined_rank",
         "orientation": "v",
         "showlegend": true,
         "textposition": "auto",
         "type": "bar",
         "x": [
          "San Marzano 60 Sessantanni Old Vines Primitivo di Manduria 2017 - ITALIE",
          "Tenuta Ulisse Limited Edition 10 Vendemmie - ITALIE",
          "Matarromera Ribera del Duero Reserva 2018 - ESPAGNE",
          "Rutini Malbec 2019 - ARGENTINE",
          "Gitana Lupi Rezerva 2016 - MOLDAVIE",
          "Pago de Carraovejas Tinto 2020 - ESPAGNE",
          "Zenato Amarone della Valpolicella Classico 2017 - ITALIE",
          "Laurent-Perrier Brut Cuvée Champagne Rosé - FRANCE",
          "Buena Vista Chateau Buena Vista Cabernet Sauvignon Napa Valley 2018 - ÉTATS-UNIS",
          "Pintia Toro 2017 - ESPAGNE"
         ],
         "xaxis": "x",
         "y": [
          19,
          28.5,
          51.5,
          56.5,
          66.5,
          81.5,
          81.5,
          85,
          99.5,
          104
         ],
         "yaxis": "y"
        },
        {
         "alignmentgroup": "True",
         "customdata": [
          [
           4.5,
           17090,
           42.63333333333333
          ],
          [
           4.5,
           9453,
           45.6
          ],
          [
           4.4,
           5650,
           53.26666666666667
          ],
          [
           4.4,
           2567,
           34.653333333333336
          ],
          [
           4.5,
           2031,
           40.86
          ],
          [
           4.5,
           2129,
           57.266666666666666
          ],
          [
           4.4,
           3465,
           69.2
          ],
          [
           4.4,
           36681,
           96
          ],
          [
           4.4,
           3867,
           82.60000000000001
          ],
          [
           4.5,
           2883,
           83.86666666666666
          ]
         ],
         "hovertemplate": "ranking type=popularity_rank<br>name_and_country=%{x}<br>rank_value=%{y}<br>vintage_ratings_average=%{customdata[0]}<br>vintage_rating_count=%{customdata[1]}<br>liter_price_euros=%{customdata[2]}<extra></extra>",
         "legendgroup": "popularity_rank",
         "marker": {
          "color": "#123570",
          "pattern": {
           "shape": ""
          }
         },
         "name": "popularity_rank",
         "offsetgroup": "popularity_rank",
         "orientation": "v",
         "showlegend": true,
         "textposition": "auto",
         "type": "bar",
         "x": [
          "San Marzano 60 Sessantanni Old Vines Primitivo di Manduria 2017 - ITALIE",
          "Tenuta Ulisse Limited Edition 10 Vendemmie - ITALIE",
          "Matarromera Ribera del Duero Reserva 2018 - ESPAGNE",
          "Rutini Malbec 2019 - ARGENTINE",
          "Gitana Lupi Rezerva 2016 - MOLDAVIE",
          "Pago de Carraovejas Tinto 2020 - ESPAGNE",
          "Zenato Amarone della Valpolicella Classico 2017 - ITALIE",
          "Laurent-Perrier Brut Cuvée Champagne Rosé - FRANCE",
          "Buena Vista Chateau Buena Vista Cabernet Sauvignon Napa Valley 2018 - ÉTATS-UNIS",
          "Pintia Toro 2017 - ESPAGNE"
         ],
         "xaxis": "x",
         "y": [
          7,
          19,
          46,
          100,
          105,
          101,
          76,
          2,
          67,
          78
         ],
         "yaxis": "y"
        },
        {
         "alignmentgroup": "True",
         "customdata": [
          [
           4.5,
           17090,
           42.63333333333333
          ],
          [
           4.5,
           9453,
           45.6
          ],
          [
           4.4,
           5650,
           53.26666666666667
          ],
          [
           4.4,
           2567,
           34.653333333333336
          ],
          [
           4.5,
           2031,
           40.86
          ],
          [
           4.5,
           2129,
           57.266666666666666
          ],
          [
           4.4,
           3465,
           69.2
          ],
          [
           4.4,
           36681,
           96
          ],
          [
           4.4,
           3867,
           82.60000000000001
          ],
          [
           4.5,
           2883,
           83.86666666666666
          ]
         ],
         "hovertemplate": "ranking type=value_rank<br>name_and_country=%{x}<br>rank_value=%{y}<br>vintage_ratings_average=%{customdata[0]}<br>vintage_rating_count=%{customdata[1]}<br>liter_price_euros=%{customdata[2]}<extra></extra>",
         "legendgroup": "value_rank",
         "marker": {
          "color": "#3b496c",
          "pattern": {
           "shape": ""
          }
         },
         "name": "value_rank",
         "offsetgroup": "value_rank",
         "orientation": "v",
         "showlegend": true,
         "textposition": "auto",
         "type": "bar",
         "x": [
          "San Marzano 60 Sessantanni Old Vines Primitivo di Manduria 2017 - ITALIE",
          "Tenuta Ulisse Limited Edition 10 Vendemmie - ITALIE",
          "Matarromera Ribera del Duero Reserva 2018 - ESPAGNE",
          "Rutini Malbec 2019 - ARGENTINE",
          "Gitana Lupi Rezerva 2016 - MOLDAVIE",
          "Pago de Carraovejas Tinto 2020 - ESPAGNE",
          "Zenato Amarone della Valpolicella Classico 2017 - ITALIE",
          "Laurent-Perrier Brut Cuvée Champagne Rosé - FRANCE",
          "Buena Vista Chateau Buena Vista Cabernet Sauvignon Napa Valley 2018 - ÉTATS-UNIS",
          "Pintia Toro 2017 - ESPAGNE"
         ],
         "xaxis": "x",
         "y": [
          31,
          38,
          57,
          13,
          28,
          62,
          87,
          168,
          132,
          130
         ],
         "yaxis": "y"
        }
       ],
       "layout": {
        "barmode": "group",
        "height": 1000,
        "legend": {
         "title": {
          "text": "ranking type"
         },
         "tracegroupgap": 0
        },
        "template": {
         "data": {
          "bar": [
           {
            "error_x": {
             "color": "#2a3f5f"
            },
            "error_y": {
             "color": "#2a3f5f"
            },
            "marker": {
             "line": {
              "color": "#E5ECF6",
              "width": 0.5
             },
             "pattern": {
              "fillmode": "overlay",
              "size": 10,
              "solidity": 0.2
             }
            },
            "type": "bar"
           }
          ],
          "barpolar": [
           {
            "marker": {
             "line": {
              "color": "#E5ECF6",
              "width": 0.5
             },
             "pattern": {
              "fillmode": "overlay",
              "size": 10,
              "solidity": 0.2
             }
            },
            "type": "barpolar"
           }
          ],
          "carpet": [
           {
            "aaxis": {
             "endlinecolor": "#2a3f5f",
             "gridcolor": "white",
             "linecolor": "white",
             "minorgridcolor": "white",
             "startlinecolor": "#2a3f5f"
            },
            "baxis": {
             "endlinecolor": "#2a3f5f",
             "gridcolor": "white",
             "linecolor": "white",
             "minorgridcolor": "white",
             "startlinecolor": "#2a3f5f"
            },
            "type": "carpet"
           }
          ],
          "choropleth": [
           {
            "colorbar": {
             "outlinewidth": 0,
             "ticks": ""
            },
            "type": "choropleth"
           }
          ],
          "contour": [
           {
            "colorbar": {
             "outlinewidth": 0,
             "ticks": ""
            },
            "colorscale": [
             [
              0,
              "#0d0887"
             ],
             [
              0.1111111111111111,
              "#46039f"
             ],
             [
              0.2222222222222222,
              "#7201a8"
             ],
             [
              0.3333333333333333,
              "#9c179e"
             ],
             [
              0.4444444444444444,
              "#bd3786"
             ],
             [
              0.5555555555555556,
              "#d8576b"
             ],
             [
              0.6666666666666666,
              "#ed7953"
             ],
             [
              0.7777777777777778,
              "#fb9f3a"
             ],
             [
              0.8888888888888888,
              "#fdca26"
             ],
             [
              1,
              "#f0f921"
             ]
            ],
            "type": "contour"
           }
          ],
          "contourcarpet": [
           {
            "colorbar": {
             "outlinewidth": 0,
             "ticks": ""
            },
            "type": "contourcarpet"
           }
          ],
          "heatmap": [
           {
            "colorbar": {
             "outlinewidth": 0,
             "ticks": ""
            },
            "colorscale": [
             [
              0,
              "#0d0887"
             ],
             [
              0.1111111111111111,
              "#46039f"
             ],
             [
              0.2222222222222222,
              "#7201a8"
             ],
             [
              0.3333333333333333,
              "#9c179e"
             ],
             [
              0.4444444444444444,
              "#bd3786"
             ],
             [
              0.5555555555555556,
              "#d8576b"
             ],
             [
              0.6666666666666666,
              "#ed7953"
             ],
             [
              0.7777777777777778,
              "#fb9f3a"
             ],
             [
              0.8888888888888888,
              "#fdca26"
             ],
             [
              1,
              "#f0f921"
             ]
            ],
            "type": "heatmap"
           }
          ],
          "heatmapgl": [
           {
            "colorbar": {
             "outlinewidth": 0,
             "ticks": ""
            },
            "colorscale": [
             [
              0,
              "#0d0887"
             ],
             [
              0.1111111111111111,
              "#46039f"
             ],
             [
              0.2222222222222222,
              "#7201a8"
             ],
             [
              0.3333333333333333,
              "#9c179e"
             ],
             [
              0.4444444444444444,
              "#bd3786"
             ],
             [
              0.5555555555555556,
              "#d8576b"
             ],
             [
              0.6666666666666666,
              "#ed7953"
             ],
             [
              0.7777777777777778,
              "#fb9f3a"
             ],
             [
              0.8888888888888888,
              "#fdca26"
             ],
             [
              1,
              "#f0f921"
             ]
            ],
            "type": "heatmapgl"
           }
          ],
          "histogram": [
           {
            "marker": {
             "pattern": {
              "fillmode": "overlay",
              "size": 10,
              "solidity": 0.2
             }
            },
            "type": "histogram"
           }
          ],
          "histogram2d": [
           {
            "colorbar": {
             "outlinewidth": 0,
             "ticks": ""
            },
            "colorscale": [
             [
              0,
              "#0d0887"
             ],
             [
              0.1111111111111111,
              "#46039f"
             ],
             [
              0.2222222222222222,
              "#7201a8"
             ],
             [
              0.3333333333333333,
              "#9c179e"
             ],
             [
              0.4444444444444444,
              "#bd3786"
             ],
             [
              0.5555555555555556,
              "#d8576b"
             ],
             [
              0.6666666666666666,
              "#ed7953"
             ],
             [
              0.7777777777777778,
              "#fb9f3a"
             ],
             [
              0.8888888888888888,
              "#fdca26"
             ],
             [
              1,
              "#f0f921"
             ]
            ],
            "type": "histogram2d"
           }
          ],
          "histogram2dcontour": [
           {
            "colorbar": {
             "outlinewidth": 0,
             "ticks": ""
            },
            "colorscale": [
             [
              0,
              "#0d0887"
             ],
             [
              0.1111111111111111,
              "#46039f"
             ],
             [
              0.2222222222222222,
              "#7201a8"
             ],
             [
              0.3333333333333333,
              "#9c179e"
             ],
             [
              0.4444444444444444,
              "#bd3786"
             ],
             [
              0.5555555555555556,
              "#d8576b"
             ],
             [
              0.6666666666666666,
              "#ed7953"
             ],
             [
              0.7777777777777778,
              "#fb9f3a"
             ],
             [
              0.8888888888888888,
              "#fdca26"
             ],
             [
              1,
              "#f0f921"
             ]
            ],
            "type": "histogram2dcontour"
           }
          ],
          "mesh3d": [
           {
            "colorbar": {
             "outlinewidth": 0,
             "ticks": ""
            },
            "type": "mesh3d"
           }
          ],
          "parcoords": [
           {
            "line": {
             "colorbar": {
              "outlinewidth": 0,
              "ticks": ""
             }
            },
            "type": "parcoords"
           }
          ],
          "pie": [
           {
            "automargin": true,
            "type": "pie"
           }
          ],
          "scatter": [
           {
            "fillpattern": {
             "fillmode": "overlay",
             "size": 10,
             "solidity": 0.2
            },
            "type": "scatter"
           }
          ],
          "scatter3d": [
           {
            "line": {
             "colorbar": {
              "outlinewidth": 0,
              "ticks": ""
             }
            },
            "marker": {
             "colorbar": {
              "outlinewidth": 0,
              "ticks": ""
             }
            },
            "type": "scatter3d"
           }
          ],
          "scattercarpet": [
           {
            "marker": {
             "colorbar": {
              "outlinewidth": 0,
              "ticks": ""
             }
            },
            "type": "scattercarpet"
           }
          ],
          "scattergeo": [
           {
            "marker": {
             "colorbar": {
              "outlinewidth": 0,
              "ticks": ""
             }
            },
            "type": "scattergeo"
           }
          ],
          "scattergl": [
           {
            "marker": {
             "colorbar": {
              "outlinewidth": 0,
              "ticks": ""
             }
            },
            "type": "scattergl"
           }
          ],
          "scattermapbox": [
           {
            "marker": {
             "colorbar": {
              "outlinewidth": 0,
              "ticks": ""
             }
            },
            "type": "scattermapbox"
           }
          ],
          "scatterpolar": [
           {
            "marker": {
             "colorbar": {
              "outlinewidth": 0,
              "ticks": ""
             }
            },
            "type": "scatterpolar"
           }
          ],
          "scatterpolargl": [
           {
            "marker": {
             "colorbar": {
              "outlinewidth": 0,
              "ticks": ""
             }
            },
            "type": "scatterpolargl"
           }
          ],
          "scatterternary": [
           {
            "marker": {
             "colorbar": {
              "outlinewidth": 0,
              "ticks": ""
             }
            },
            "type": "scatterternary"
           }
          ],
          "surface": [
           {
            "colorbar": {
             "outlinewidth": 0,
             "ticks": ""
            },
            "colorscale": [
             [
              0,
              "#0d0887"
             ],
             [
              0.1111111111111111,
              "#46039f"
             ],
             [
              0.2222222222222222,
              "#7201a8"
             ],
             [
              0.3333333333333333,
              "#9c179e"
             ],
             [
              0.4444444444444444,
              "#bd3786"
             ],
             [
              0.5555555555555556,
              "#d8576b"
             ],
             [
              0.6666666666666666,
              "#ed7953"
             ],
             [
              0.7777777777777778,
              "#fb9f3a"
             ],
             [
              0.8888888888888888,
              "#fdca26"
             ],
             [
              1,
              "#f0f921"
             ]
            ],
            "type": "surface"
           }
          ],
          "table": [
           {
            "cells": {
             "fill": {
              "color": "#EBF0F8"
             },
             "line": {
              "color": "white"
             }
            },
            "header": {
             "fill": {
              "color": "#C8D4E3"
             },
             "line": {
              "color": "white"
             }
            },
            "type": "table"
           }
          ]
         },
         "layout": {
          "annotationdefaults": {
           "arrowcolor": "#2a3f5f",
           "arrowhead": 0,
           "arrowwidth": 1
          },
          "autotypenumbers": "strict",
          "coloraxis": {
           "colorbar": {
            "outlinewidth": 0,
            "ticks": ""
           }
          },
          "colorscale": {
           "diverging": [
            [
             0,
             "#8e0152"
            ],
            [
             0.1,
             "#c51b7d"
            ],
            [
             0.2,
             "#de77ae"
            ],
            [
             0.3,
             "#f1b6da"
            ],
            [
             0.4,
             "#fde0ef"
            ],
            [
             0.5,
             "#f7f7f7"
            ],
            [
             0.6,
             "#e6f5d0"
            ],
            [
             0.7,
             "#b8e186"
            ],
            [
             0.8,
             "#7fbc41"
            ],
            [
             0.9,
             "#4d9221"
            ],
            [
             1,
             "#276419"
            ]
           ],
           "sequential": [
            [
             0,
             "#0d0887"
            ],
            [
             0.1111111111111111,
             "#46039f"
            ],
            [
             0.2222222222222222,
             "#7201a8"
            ],
            [
             0.3333333333333333,
             "#9c179e"
            ],
            [
             0.4444444444444444,
             "#bd3786"
            ],
            [
             0.5555555555555556,
             "#d8576b"
            ],
            [
             0.6666666666666666,
             "#ed7953"
            ],
            [
             0.7777777777777778,
             "#fb9f3a"
            ],
            [
             0.8888888888888888,
             "#fdca26"
            ],
            [
             1,
             "#f0f921"
            ]
           ],
           "sequentialminus": [
            [
             0,
             "#0d0887"
            ],
            [
             0.1111111111111111,
             "#46039f"
            ],
            [
             0.2222222222222222,
             "#7201a8"
            ],
            [
             0.3333333333333333,
             "#9c179e"
            ],
            [
             0.4444444444444444,
             "#bd3786"
            ],
            [
             0.5555555555555556,
             "#d8576b"
            ],
            [
             0.6666666666666666,
             "#ed7953"
            ],
            [
             0.7777777777777778,
             "#fb9f3a"
            ],
            [
             0.8888888888888888,
             "#fdca26"
            ],
            [
             1,
             "#f0f921"
            ]
           ]
          },
          "colorway": [
           "#636efa",
           "#EF553B",
           "#00cc96",
           "#ab63fa",
           "#FFA15A",
           "#19d3f3",
           "#FF6692",
           "#B6E880",
           "#FF97FF",
           "#FECB52"
          ],
          "font": {
           "color": "#2a3f5f"
          },
          "geo": {
           "bgcolor": "white",
           "lakecolor": "white",
           "landcolor": "#E5ECF6",
           "showlakes": true,
           "showland": true,
           "subunitcolor": "white"
          },
          "hoverlabel": {
           "align": "left"
          },
          "hovermode": "closest",
          "mapbox": {
           "style": "light"
          },
          "paper_bgcolor": "white",
          "plot_bgcolor": "#E5ECF6",
          "polar": {
           "angularaxis": {
            "gridcolor": "white",
            "linecolor": "white",
            "ticks": ""
           },
           "bgcolor": "#E5ECF6",
           "radialaxis": {
            "gridcolor": "white",
            "linecolor": "white",
            "ticks": ""
           }
          },
          "scene": {
           "xaxis": {
            "backgroundcolor": "#E5ECF6",
            "gridcolor": "white",
            "gridwidth": 2,
            "linecolor": "white",
            "showbackground": true,
            "ticks": "",
            "zerolinecolor": "white"
           },
           "yaxis": {
            "backgroundcolor": "#E5ECF6",
            "gridcolor": "white",
            "gridwidth": 2,
            "linecolor": "white",
            "showbackground": true,
            "ticks": "",
            "zerolinecolor": "white"
           },
           "zaxis": {
            "backgroundcolor": "#E5ECF6",
            "gridcolor": "white",
            "gridwidth": 2,
            "linecolor": "white",
            "showbackground": true,
            "ticks": "",
            "zerolinecolor": "white"
           }
          },
          "shapedefaults": {
           "line": {
            "color": "#2a3f5f"
           }
          },
          "ternary": {
           "aaxis": {
            "gridcolor": "white",
            "linecolor": "white",
            "ticks": ""
           },
           "baxis": {
            "gridcolor": "white",
            "linecolor": "white",
            "ticks": ""
           },
           "bgcolor": "#E5ECF6",
           "caxis": {
            "gridcolor": "white",
            "linecolor": "white",
            "ticks": ""
           }
          },
          "title": {
           "x": 0.05
          },
          "xaxis": {
           "automargin": true,
           "gridcolor": "white",
           "linecolor": "white",
           "ticks": "",
           "title": {
            "standoff": 15
           },
           "zerolinecolor": "white",
           "zerolinewidth": 2
          },
          "yaxis": {
           "automargin": true,
           "gridcolor": "white",
           "linecolor": "white",
           "ticks": "",
           "title": {
            "standoff": 15
           },
           "zerolinecolor": "white",
           "zerolinewidth": 2
          }
         }
        },
        "title": {
         "font": {
          "size": 28
         },
         "text": "Top 10 Wines: Ranks by Type and Country"
        },
        "xaxis": {
         "anchor": "y",
         "domain": [
          0,
          1
         ],
         "tickangle": -45,
         "title": {
          "font": {
           "color": "black",
           "family": "Arial",
           "size": 20
          },
          "text": "Vintage Wine Name"
         }
        },
        "yaxis": {
         "anchor": "x",
         "domain": [
          0,
          1
         ],
         "title": {
          "font": {
           "color": "black",
           "family": "Arial",
           "size": 20
          },
          "text": "Ranking"
         }
        }
       }
      }
     },
     "metadata": {},
     "output_type": "display_data"
    }
   ],
   "source": [
    "import plotly.express as px\n",
    "\n",
    "# Ensuring the DataFrame is sorted by 'combined_rank' before melting\n",
    "top_10_sales_sorted = top_10_sales.sort_values(by='combined_rank', ascending=True)\n",
    "\n",
    "# Creating a new column combining wine name and country\n",
    "top_10_sales_sorted[\"name_and_country\"] = top_10_sales_sorted.apply(lambda row: f\"{row['vintage_name']} - {row['country'].upper()}\", axis=1)\n",
    "\n",
    "# Melting the DataFrame for easier plotting\n",
    "top_10_melted = top_10_sales_sorted.melt(id_vars=['name_and_country', 'vintage_ratings_average', 'vintage_rating_count', 'liter_price_euros'], value_vars=['combined_rank', 'popularity_rank', 'value_rank'], var_name='ranking type', value_name='rank_value')\n",
    "\n",
    "# Creating a bar plot with interactive information display\n",
    "fig = px.bar(top_10_melted, \n",
    "             x='name_and_country', \n",
    "             y='rank_value', \n",
    "             color='ranking type', \n",
    "             hover_data=['vintage_ratings_average', 'vintage_rating_count', 'liter_price_euros'], \n",
    "             title='Top 10 Wines: Ranks by Type and Country',\n",
    "             height=1000,\n",
    "             color_discrete_sequence=px.colors.sequential.Cividis)\n",
    "\n",
    "# Customizing the layout\n",
    "fig.update_layout(\n",
    "    title={'text': 'Top 10 Wines: Ranks by Type and Country', 'font': {'size': 28}}, \n",
    "    xaxis_title={'text': 'Vintage Wine Name', 'font': {'size': 20, 'family': 'Arial', 'color': 'black'}},  \n",
    "    yaxis_title={'text': 'Ranking', 'font': {'size': 20, 'family': 'Arial', 'color': 'black'}},  \n",
    "    xaxis_tickangle=-45,\n",
    "    barmode='group')\n",
    "\n",
    "fig.show()"
   ]
  },
  {
   "cell_type": "markdown",
   "metadata": {},
   "source": [
    "### Exploratory analysis about countries : Bubble chart for countries information (wine count, average rating, median price)"
   ]
  },
  {
   "cell_type": "code",
   "execution_count": 4,
   "metadata": {},
   "outputs": [
    {
     "data": {
      "application/vnd.plotly.v1+json": {
       "config": {
        "plotlyServerURL": "https://plot.ly"
       },
       "data": [
        {
         "hovertemplate": "<b>%{hovertext}</b><br><br>country=Afrique du Sud<br>median_price=%{x}<br>avg_rating=%{y}<br>rating_count=%{marker.size}<extra></extra>",
         "hovertext": [
          "Afrique du Sud"
         ],
         "legendgroup": "Afrique du Sud",
         "marker": {
          "color": "#636efa",
          "size": [
           21
          ],
          "sizemode": "area",
          "sizeref": 0.007925,
          "symbol": "circle"
         },
         "mode": "markers",
         "name": "Afrique du Sud",
         "orientation": "v",
         "showlegend": true,
         "type": "scatter",
         "x": [
          77.26666666666667
         ],
         "xaxis": "x",
         "y": [
          3.423809523809524
         ],
         "yaxis": "y"
        },
        {
         "hovertemplate": "<b>%{hovertext}</b><br><br>country=Allemagne<br>median_price=%{x}<br>avg_rating=%{y}<br>rating_count=%{marker.size}<extra></extra>",
         "hovertext": [
          "Allemagne"
         ],
         "legendgroup": "Allemagne",
         "marker": {
          "color": "#EF553B",
          "size": [
           14
          ],
          "sizemode": "area",
          "sizeref": 0.007925,
          "symbol": "circle"
         },
         "mode": "markers",
         "name": "Allemagne",
         "orientation": "v",
         "showlegend": true,
         "type": "scatter",
         "x": [
          268
         ],
         "xaxis": "x",
         "y": [
          1.5999999999999999
         ],
         "yaxis": "y"
        },
        {
         "hovertemplate": "<b>%{hovertext}</b><br><br>country=Argentine<br>median_price=%{x}<br>avg_rating=%{y}<br>rating_count=%{marker.size}<extra></extra>",
         "hovertext": [
          "Argentine"
         ],
         "legendgroup": "Argentine",
         "marker": {
          "color": "#00cc96",
          "size": [
           23
          ],
          "sizemode": "area",
          "sizeref": 0.007925,
          "symbol": "circle"
         },
         "mode": "markers",
         "name": "Argentine",
         "orientation": "v",
         "showlegend": true,
         "type": "scatter",
         "x": [
          119.93333333333334
         ],
         "xaxis": "x",
         "y": [
          4.282608695652174
         ],
         "yaxis": "y"
        },
        {
         "hovertemplate": "<b>%{hovertext}</b><br><br>country=Australie<br>median_price=%{x}<br>avg_rating=%{y}<br>rating_count=%{marker.size}<extra></extra>",
         "hovertext": [
          "Australie"
         ],
         "legendgroup": "Australie",
         "marker": {
          "color": "#ab63fa",
          "size": [
           11
          ],
          "sizemode": "area",
          "sizeref": 0.007925,
          "symbol": "circle"
         },
         "mode": "markers",
         "name": "Australie",
         "orientation": "v",
         "showlegend": true,
         "type": "scatter",
         "x": [
          265.06666666666666
         ],
         "xaxis": "x",
         "y": [
          2.4454545454545458
         ],
         "yaxis": "y"
        },
        {
         "hovertemplate": "<b>%{hovertext}</b><br><br>country=Chili<br>median_price=%{x}<br>avg_rating=%{y}<br>rating_count=%{marker.size}<extra></extra>",
         "hovertext": [
          "Chili"
         ],
         "legendgroup": "Chili",
         "marker": {
          "color": "#FFA15A",
          "size": [
           14
          ],
          "sizemode": "area",
          "sizeref": 0.007925,
          "symbol": "circle"
         },
         "mode": "markers",
         "name": "Chili",
         "orientation": "v",
         "showlegend": true,
         "type": "scatter",
         "x": [
          112.63333333333334
         ],
         "xaxis": "x",
         "y": [
          4.1571428571428575
         ],
         "yaxis": "y"
        },
        {
         "hovertemplate": "<b>%{hovertext}</b><br><br>country=Croatie<br>median_price=%{x}<br>avg_rating=%{y}<br>rating_count=%{marker.size}<extra></extra>",
         "hovertext": [
          "Croatie"
         ],
         "legendgroup": "Croatie",
         "marker": {
          "color": "#19d3f3",
          "size": [
           1
          ],
          "sizemode": "area",
          "sizeref": 0.007925,
          "symbol": "circle"
         },
         "mode": "markers",
         "name": "Croatie",
         "orientation": "v",
         "showlegend": true,
         "type": "scatter",
         "x": [
          47.2
         ],
         "xaxis": "x",
         "y": [
          4.4
         ],
         "yaxis": "y"
        },
        {
         "hovertemplate": "<b>%{hovertext}</b><br><br>country=Espagne<br>median_price=%{x}<br>avg_rating=%{y}<br>rating_count=%{marker.size}<extra></extra>",
         "hovertext": [
          "Espagne"
         ],
         "legendgroup": "Espagne",
         "marker": {
          "color": "#FF6692",
          "size": [
           90
          ],
          "sizemode": "area",
          "sizeref": 0.007925,
          "symbol": "circle"
         },
         "mode": "markers",
         "name": "Espagne",
         "orientation": "v",
         "showlegend": true,
         "type": "scatter",
         "x": [
          133.26666666666668
         ],
         "xaxis": "x",
         "y": [
          3.5044444444444443
         ],
         "yaxis": "y"
        },
        {
         "hovertemplate": "<b>%{hovertext}</b><br><br>country=France<br>median_price=%{x}<br>avg_rating=%{y}<br>rating_count=%{marker.size}<extra></extra>",
         "hovertext": [
          "France"
         ],
         "legendgroup": "France",
         "marker": {
          "color": "#B6E880",
          "size": [
           252
          ],
          "sizemode": "area",
          "sizeref": 0.007925,
          "symbol": "circle"
         },
         "mode": "markers",
         "name": "France",
         "orientation": "v",
         "showlegend": true,
         "type": "scatter",
         "x": [
          425.99999999999994
         ],
         "xaxis": "x",
         "y": [
          2.998015873015873
         ],
         "yaxis": "y"
        },
        {
         "hovertemplate": "<b>%{hovertext}</b><br><br>country=Grèce<br>median_price=%{x}<br>avg_rating=%{y}<br>rating_count=%{marker.size}<extra></extra>",
         "hovertext": [
          "Grèce"
         ],
         "legendgroup": "Grèce",
         "marker": {
          "color": "#FF97FF",
          "size": [
           2
          ],
          "sizemode": "area",
          "sizeref": 0.007925,
          "symbol": "circle"
         },
         "mode": "markers",
         "name": "Grèce",
         "orientation": "v",
         "showlegend": true,
         "type": "scatter",
         "x": [
          165.33333333333334
         ],
         "xaxis": "x",
         "y": [
          2.3
         ],
         "yaxis": "y"
        },
        {
         "hovertemplate": "<b>%{hovertext}</b><br><br>country=Hongrie<br>median_price=%{x}<br>avg_rating=%{y}<br>rating_count=%{marker.size}<extra></extra>",
         "hovertext": [
          "Hongrie"
         ],
         "legendgroup": "Hongrie",
         "marker": {
          "color": "#FECB52",
          "size": [
           9
          ],
          "sizemode": "area",
          "sizeref": 0.007925,
          "symbol": "circle"
         },
         "mode": "markers",
         "name": "Hongrie",
         "orientation": "v",
         "showlegend": true,
         "type": "scatter",
         "x": [
          140
         ],
         "xaxis": "x",
         "y": [
          2.966666666666667
         ],
         "yaxis": "y"
        },
        {
         "hovertemplate": "<b>%{hovertext}</b><br><br>country=Italie<br>median_price=%{x}<br>avg_rating=%{y}<br>rating_count=%{marker.size}<extra></extra>",
         "hovertext": [
          "Italie"
         ],
         "legendgroup": "Italie",
         "marker": {
          "color": "#636efa",
          "size": [
           317
          ],
          "sizemode": "area",
          "sizeref": 0.007925,
          "symbol": "circle"
         },
         "mode": "markers",
         "name": "Italie",
         "orientation": "v",
         "showlegend": true,
         "type": "scatter",
         "x": [
          208.33333333333331
         ],
         "xaxis": "x",
         "y": [
          3.5712933753943217
         ],
         "yaxis": "y"
        },
        {
         "hovertemplate": "<b>%{hovertext}</b><br><br>country=Moldavie<br>median_price=%{x}<br>avg_rating=%{y}<br>rating_count=%{marker.size}<extra></extra>",
         "hovertext": [
          "Moldavie"
         ],
         "legendgroup": "Moldavie",
         "marker": {
          "color": "#EF553B",
          "size": [
           5
          ],
          "sizemode": "area",
          "sizeref": 0.007925,
          "symbol": "circle"
         },
         "mode": "markers",
         "name": "Moldavie",
         "orientation": "v",
         "showlegend": true,
         "type": "scatter",
         "x": [
          44.226666666666674
         ],
         "xaxis": "x",
         "y": [
          4.5
         ],
         "yaxis": "y"
        },
        {
         "hovertemplate": "<b>%{hovertext}</b><br><br>country=Portugal<br>median_price=%{x}<br>avg_rating=%{y}<br>rating_count=%{marker.size}<extra></extra>",
         "hovertext": [
          "Portugal"
         ],
         "legendgroup": "Portugal",
         "marker": {
          "color": "#00cc96",
          "size": [
           26
          ],
          "sizemode": "area",
          "sizeref": 0.007925,
          "symbol": "circle"
         },
         "mode": "markers",
         "name": "Portugal",
         "orientation": "v",
         "showlegend": true,
         "type": "scatter",
         "x": [
          137.96666666666667
         ],
         "xaxis": "x",
         "y": [
          3.819230769230769
         ],
         "yaxis": "y"
        },
        {
         "hovertemplate": "<b>%{hovertext}</b><br><br>country=Roumanie<br>median_price=%{x}<br>avg_rating=%{y}<br>rating_count=%{marker.size}<extra></extra>",
         "hovertext": [
          "Roumanie"
         ],
         "legendgroup": "Roumanie",
         "marker": {
          "color": "#ab63fa",
          "size": [
           1
          ],
          "sizemode": "area",
          "sizeref": 0.007925,
          "symbol": "circle"
         },
         "mode": "markers",
         "name": "Roumanie",
         "orientation": "v",
         "showlegend": true,
         "type": "scatter",
         "x": [
          48.10666666666667
         ],
         "xaxis": "x",
         "y": [
          4.5
         ],
         "yaxis": "y"
        },
        {
         "hovertemplate": "<b>%{hovertext}</b><br><br>country=Suisse<br>median_price=%{x}<br>avg_rating=%{y}<br>rating_count=%{marker.size}<extra></extra>",
         "hovertext": [
          "Suisse"
         ],
         "legendgroup": "Suisse",
         "marker": {
          "color": "#FFA15A",
          "size": [
           2
          ],
          "sizemode": "area",
          "sizeref": 0.007925,
          "symbol": "circle"
         },
         "mode": "markers",
         "name": "Suisse",
         "orientation": "v",
         "showlegend": true,
         "type": "scatter",
         "x": [
          181.88333333333333
         ],
         "xaxis": "x",
         "y": [
          2.2
         ],
         "yaxis": "y"
        },
        {
         "hovertemplate": "<b>%{hovertext}</b><br><br>country=États-Unis<br>median_price=%{x}<br>avg_rating=%{y}<br>rating_count=%{marker.size}<extra></extra>",
         "hovertext": [
          "États-Unis"
         ],
         "legendgroup": "États-Unis",
         "marker": {
          "color": "#19d3f3",
          "size": [
           67
          ],
          "sizemode": "area",
          "sizeref": 0.007925,
          "symbol": "circle"
         },
         "mode": "markers",
         "name": "États-Unis",
         "orientation": "v",
         "showlegend": true,
         "type": "scatter",
         "x": [
          216.2
         ],
         "xaxis": "x",
         "y": [
          3.716417910447761
         ],
         "yaxis": "y"
        }
       ],
       "layout": {
        "height": 600,
        "legend": {
         "itemsizing": "constant",
         "title": {
          "text": "country"
         },
         "tracegroupgap": 0
        },
        "margin": {
         "t": 60
        },
        "template": {
         "data": {
          "bar": [
           {
            "error_x": {
             "color": "#2a3f5f"
            },
            "error_y": {
             "color": "#2a3f5f"
            },
            "marker": {
             "line": {
              "color": "#E5ECF6",
              "width": 0.5
             },
             "pattern": {
              "fillmode": "overlay",
              "size": 10,
              "solidity": 0.2
             }
            },
            "type": "bar"
           }
          ],
          "barpolar": [
           {
            "marker": {
             "line": {
              "color": "#E5ECF6",
              "width": 0.5
             },
             "pattern": {
              "fillmode": "overlay",
              "size": 10,
              "solidity": 0.2
             }
            },
            "type": "barpolar"
           }
          ],
          "carpet": [
           {
            "aaxis": {
             "endlinecolor": "#2a3f5f",
             "gridcolor": "white",
             "linecolor": "white",
             "minorgridcolor": "white",
             "startlinecolor": "#2a3f5f"
            },
            "baxis": {
             "endlinecolor": "#2a3f5f",
             "gridcolor": "white",
             "linecolor": "white",
             "minorgridcolor": "white",
             "startlinecolor": "#2a3f5f"
            },
            "type": "carpet"
           }
          ],
          "choropleth": [
           {
            "colorbar": {
             "outlinewidth": 0,
             "ticks": ""
            },
            "type": "choropleth"
           }
          ],
          "contour": [
           {
            "colorbar": {
             "outlinewidth": 0,
             "ticks": ""
            },
            "colorscale": [
             [
              0,
              "#0d0887"
             ],
             [
              0.1111111111111111,
              "#46039f"
             ],
             [
              0.2222222222222222,
              "#7201a8"
             ],
             [
              0.3333333333333333,
              "#9c179e"
             ],
             [
              0.4444444444444444,
              "#bd3786"
             ],
             [
              0.5555555555555556,
              "#d8576b"
             ],
             [
              0.6666666666666666,
              "#ed7953"
             ],
             [
              0.7777777777777778,
              "#fb9f3a"
             ],
             [
              0.8888888888888888,
              "#fdca26"
             ],
             [
              1,
              "#f0f921"
             ]
            ],
            "type": "contour"
           }
          ],
          "contourcarpet": [
           {
            "colorbar": {
             "outlinewidth": 0,
             "ticks": ""
            },
            "type": "contourcarpet"
           }
          ],
          "heatmap": [
           {
            "colorbar": {
             "outlinewidth": 0,
             "ticks": ""
            },
            "colorscale": [
             [
              0,
              "#0d0887"
             ],
             [
              0.1111111111111111,
              "#46039f"
             ],
             [
              0.2222222222222222,
              "#7201a8"
             ],
             [
              0.3333333333333333,
              "#9c179e"
             ],
             [
              0.4444444444444444,
              "#bd3786"
             ],
             [
              0.5555555555555556,
              "#d8576b"
             ],
             [
              0.6666666666666666,
              "#ed7953"
             ],
             [
              0.7777777777777778,
              "#fb9f3a"
             ],
             [
              0.8888888888888888,
              "#fdca26"
             ],
             [
              1,
              "#f0f921"
             ]
            ],
            "type": "heatmap"
           }
          ],
          "heatmapgl": [
           {
            "colorbar": {
             "outlinewidth": 0,
             "ticks": ""
            },
            "colorscale": [
             [
              0,
              "#0d0887"
             ],
             [
              0.1111111111111111,
              "#46039f"
             ],
             [
              0.2222222222222222,
              "#7201a8"
             ],
             [
              0.3333333333333333,
              "#9c179e"
             ],
             [
              0.4444444444444444,
              "#bd3786"
             ],
             [
              0.5555555555555556,
              "#d8576b"
             ],
             [
              0.6666666666666666,
              "#ed7953"
             ],
             [
              0.7777777777777778,
              "#fb9f3a"
             ],
             [
              0.8888888888888888,
              "#fdca26"
             ],
             [
              1,
              "#f0f921"
             ]
            ],
            "type": "heatmapgl"
           }
          ],
          "histogram": [
           {
            "marker": {
             "pattern": {
              "fillmode": "overlay",
              "size": 10,
              "solidity": 0.2
             }
            },
            "type": "histogram"
           }
          ],
          "histogram2d": [
           {
            "colorbar": {
             "outlinewidth": 0,
             "ticks": ""
            },
            "colorscale": [
             [
              0,
              "#0d0887"
             ],
             [
              0.1111111111111111,
              "#46039f"
             ],
             [
              0.2222222222222222,
              "#7201a8"
             ],
             [
              0.3333333333333333,
              "#9c179e"
             ],
             [
              0.4444444444444444,
              "#bd3786"
             ],
             [
              0.5555555555555556,
              "#d8576b"
             ],
             [
              0.6666666666666666,
              "#ed7953"
             ],
             [
              0.7777777777777778,
              "#fb9f3a"
             ],
             [
              0.8888888888888888,
              "#fdca26"
             ],
             [
              1,
              "#f0f921"
             ]
            ],
            "type": "histogram2d"
           }
          ],
          "histogram2dcontour": [
           {
            "colorbar": {
             "outlinewidth": 0,
             "ticks": ""
            },
            "colorscale": [
             [
              0,
              "#0d0887"
             ],
             [
              0.1111111111111111,
              "#46039f"
             ],
             [
              0.2222222222222222,
              "#7201a8"
             ],
             [
              0.3333333333333333,
              "#9c179e"
             ],
             [
              0.4444444444444444,
              "#bd3786"
             ],
             [
              0.5555555555555556,
              "#d8576b"
             ],
             [
              0.6666666666666666,
              "#ed7953"
             ],
             [
              0.7777777777777778,
              "#fb9f3a"
             ],
             [
              0.8888888888888888,
              "#fdca26"
             ],
             [
              1,
              "#f0f921"
             ]
            ],
            "type": "histogram2dcontour"
           }
          ],
          "mesh3d": [
           {
            "colorbar": {
             "outlinewidth": 0,
             "ticks": ""
            },
            "type": "mesh3d"
           }
          ],
          "parcoords": [
           {
            "line": {
             "colorbar": {
              "outlinewidth": 0,
              "ticks": ""
             }
            },
            "type": "parcoords"
           }
          ],
          "pie": [
           {
            "automargin": true,
            "type": "pie"
           }
          ],
          "scatter": [
           {
            "fillpattern": {
             "fillmode": "overlay",
             "size": 10,
             "solidity": 0.2
            },
            "type": "scatter"
           }
          ],
          "scatter3d": [
           {
            "line": {
             "colorbar": {
              "outlinewidth": 0,
              "ticks": ""
             }
            },
            "marker": {
             "colorbar": {
              "outlinewidth": 0,
              "ticks": ""
             }
            },
            "type": "scatter3d"
           }
          ],
          "scattercarpet": [
           {
            "marker": {
             "colorbar": {
              "outlinewidth": 0,
              "ticks": ""
             }
            },
            "type": "scattercarpet"
           }
          ],
          "scattergeo": [
           {
            "marker": {
             "colorbar": {
              "outlinewidth": 0,
              "ticks": ""
             }
            },
            "type": "scattergeo"
           }
          ],
          "scattergl": [
           {
            "marker": {
             "colorbar": {
              "outlinewidth": 0,
              "ticks": ""
             }
            },
            "type": "scattergl"
           }
          ],
          "scattermapbox": [
           {
            "marker": {
             "colorbar": {
              "outlinewidth": 0,
              "ticks": ""
             }
            },
            "type": "scattermapbox"
           }
          ],
          "scatterpolar": [
           {
            "marker": {
             "colorbar": {
              "outlinewidth": 0,
              "ticks": ""
             }
            },
            "type": "scatterpolar"
           }
          ],
          "scatterpolargl": [
           {
            "marker": {
             "colorbar": {
              "outlinewidth": 0,
              "ticks": ""
             }
            },
            "type": "scatterpolargl"
           }
          ],
          "scatterternary": [
           {
            "marker": {
             "colorbar": {
              "outlinewidth": 0,
              "ticks": ""
             }
            },
            "type": "scatterternary"
           }
          ],
          "surface": [
           {
            "colorbar": {
             "outlinewidth": 0,
             "ticks": ""
            },
            "colorscale": [
             [
              0,
              "#0d0887"
             ],
             [
              0.1111111111111111,
              "#46039f"
             ],
             [
              0.2222222222222222,
              "#7201a8"
             ],
             [
              0.3333333333333333,
              "#9c179e"
             ],
             [
              0.4444444444444444,
              "#bd3786"
             ],
             [
              0.5555555555555556,
              "#d8576b"
             ],
             [
              0.6666666666666666,
              "#ed7953"
             ],
             [
              0.7777777777777778,
              "#fb9f3a"
             ],
             [
              0.8888888888888888,
              "#fdca26"
             ],
             [
              1,
              "#f0f921"
             ]
            ],
            "type": "surface"
           }
          ],
          "table": [
           {
            "cells": {
             "fill": {
              "color": "#EBF0F8"
             },
             "line": {
              "color": "white"
             }
            },
            "header": {
             "fill": {
              "color": "#C8D4E3"
             },
             "line": {
              "color": "white"
             }
            },
            "type": "table"
           }
          ]
         },
         "layout": {
          "annotationdefaults": {
           "arrowcolor": "#2a3f5f",
           "arrowhead": 0,
           "arrowwidth": 1
          },
          "autotypenumbers": "strict",
          "coloraxis": {
           "colorbar": {
            "outlinewidth": 0,
            "ticks": ""
           }
          },
          "colorscale": {
           "diverging": [
            [
             0,
             "#8e0152"
            ],
            [
             0.1,
             "#c51b7d"
            ],
            [
             0.2,
             "#de77ae"
            ],
            [
             0.3,
             "#f1b6da"
            ],
            [
             0.4,
             "#fde0ef"
            ],
            [
             0.5,
             "#f7f7f7"
            ],
            [
             0.6,
             "#e6f5d0"
            ],
            [
             0.7,
             "#b8e186"
            ],
            [
             0.8,
             "#7fbc41"
            ],
            [
             0.9,
             "#4d9221"
            ],
            [
             1,
             "#276419"
            ]
           ],
           "sequential": [
            [
             0,
             "#0d0887"
            ],
            [
             0.1111111111111111,
             "#46039f"
            ],
            [
             0.2222222222222222,
             "#7201a8"
            ],
            [
             0.3333333333333333,
             "#9c179e"
            ],
            [
             0.4444444444444444,
             "#bd3786"
            ],
            [
             0.5555555555555556,
             "#d8576b"
            ],
            [
             0.6666666666666666,
             "#ed7953"
            ],
            [
             0.7777777777777778,
             "#fb9f3a"
            ],
            [
             0.8888888888888888,
             "#fdca26"
            ],
            [
             1,
             "#f0f921"
            ]
           ],
           "sequentialminus": [
            [
             0,
             "#0d0887"
            ],
            [
             0.1111111111111111,
             "#46039f"
            ],
            [
             0.2222222222222222,
             "#7201a8"
            ],
            [
             0.3333333333333333,
             "#9c179e"
            ],
            [
             0.4444444444444444,
             "#bd3786"
            ],
            [
             0.5555555555555556,
             "#d8576b"
            ],
            [
             0.6666666666666666,
             "#ed7953"
            ],
            [
             0.7777777777777778,
             "#fb9f3a"
            ],
            [
             0.8888888888888888,
             "#fdca26"
            ],
            [
             1,
             "#f0f921"
            ]
           ]
          },
          "colorway": [
           "#636efa",
           "#EF553B",
           "#00cc96",
           "#ab63fa",
           "#FFA15A",
           "#19d3f3",
           "#FF6692",
           "#B6E880",
           "#FF97FF",
           "#FECB52"
          ],
          "font": {
           "color": "#2a3f5f"
          },
          "geo": {
           "bgcolor": "white",
           "lakecolor": "white",
           "landcolor": "#E5ECF6",
           "showlakes": true,
           "showland": true,
           "subunitcolor": "white"
          },
          "hoverlabel": {
           "align": "left"
          },
          "hovermode": "closest",
          "mapbox": {
           "style": "light"
          },
          "paper_bgcolor": "white",
          "plot_bgcolor": "#E5ECF6",
          "polar": {
           "angularaxis": {
            "gridcolor": "white",
            "linecolor": "white",
            "ticks": ""
           },
           "bgcolor": "#E5ECF6",
           "radialaxis": {
            "gridcolor": "white",
            "linecolor": "white",
            "ticks": ""
           }
          },
          "scene": {
           "xaxis": {
            "backgroundcolor": "#E5ECF6",
            "gridcolor": "white",
            "gridwidth": 2,
            "linecolor": "white",
            "showbackground": true,
            "ticks": "",
            "zerolinecolor": "white"
           },
           "yaxis": {
            "backgroundcolor": "#E5ECF6",
            "gridcolor": "white",
            "gridwidth": 2,
            "linecolor": "white",
            "showbackground": true,
            "ticks": "",
            "zerolinecolor": "white"
           },
           "zaxis": {
            "backgroundcolor": "#E5ECF6",
            "gridcolor": "white",
            "gridwidth": 2,
            "linecolor": "white",
            "showbackground": true,
            "ticks": "",
            "zerolinecolor": "white"
           }
          },
          "shapedefaults": {
           "line": {
            "color": "#2a3f5f"
           }
          },
          "ternary": {
           "aaxis": {
            "gridcolor": "white",
            "linecolor": "white",
            "ticks": ""
           },
           "baxis": {
            "gridcolor": "white",
            "linecolor": "white",
            "ticks": ""
           },
           "bgcolor": "#E5ECF6",
           "caxis": {
            "gridcolor": "white",
            "linecolor": "white",
            "ticks": ""
           }
          },
          "title": {
           "x": 0.05
          },
          "xaxis": {
           "automargin": true,
           "gridcolor": "white",
           "linecolor": "white",
           "ticks": "",
           "title": {
            "standoff": 15
           },
           "zerolinecolor": "white",
           "zerolinewidth": 2
          },
          "yaxis": {
           "automargin": true,
           "gridcolor": "white",
           "linecolor": "white",
           "ticks": "",
           "title": {
            "standoff": 15
           },
           "zerolinecolor": "white",
           "zerolinewidth": 2
          }
         }
        },
        "title": {
         "font": {
          "size": 24
         },
         "text": "Bubble Chart: Wine Prices, Ratings, and Countries",
         "x": 0.5,
         "xanchor": "center"
        },
        "xaxis": {
         "anchor": "y",
         "domain": [
          0,
          1
         ],
         "title": {
          "font": {
           "size": 18
          },
          "text": "Average Price (Euros)"
         }
        },
        "yaxis": {
         "anchor": "x",
         "domain": [
          0,
          1
         ],
         "title": {
          "font": {
           "size": 18
          },
          "text": "Average Rating (scale from 0 to 5)"
         }
        }
       }
      }
     },
     "metadata": {},
     "output_type": "display_data"
    }
   ],
   "source": [
    "selection_sales_df = selection_sales_df[selection_sales_df['country'] != 'Israël']\n",
    "\n",
    "# Aggregating data per country\n",
    "aggregated_data = selection_sales_df.groupby('country').agg(median_price=('liter_price_euros', 'median'),avg_rating=('vintage_ratings_average', 'mean'),rating_count=('vintage_rating_count', 'count')).reset_index()\n",
    "\n",
    "# Bubble chart parameters\n",
    "fig = px.scatter(\n",
    "    aggregated_data,\n",
    "    x='median_price',\n",
    "    y='avg_rating',\n",
    "    size='rating_count',\n",
    "    color='country',\n",
    "    hover_name='country',\n",
    "    size_max=200,\n",
    "    height=600\n",
    ")\n",
    "\n",
    "# Adjusting the titles and font sizes\n",
    "fig.update_layout(\n",
    "    title={\n",
    "        'text': 'Bubble Chart: Wine Prices, Ratings, and Countries',\n",
    "        'font': {'size': 24}, \n",
    "        'x': 0.5,\n",
    "        'xanchor': 'center'\n",
    "    },\n",
    "    xaxis_title={\n",
    "        'text': 'Average Price (Euros)',\n",
    "        'font': {'size': 18} \n",
    "    },\n",
    "    yaxis_title={\n",
    "        'text': 'Average Rating (scale from 0 to 5)',\n",
    "        'font': {'size': 18} \n",
    "    }\n",
    ")\n",
    "\n",
    "fig.show()\n"
   ]
  }
 ],
 "metadata": {
  "kernelspec": {
   "display_name": "myenv",
   "language": "python",
   "name": "python3"
  },
  "language_info": {
   "codemirror_mode": {
    "name": "ipython",
    "version": 3
   },
   "file_extension": ".py",
   "mimetype": "text/x-python",
   "name": "python",
   "nbconvert_exporter": "python",
   "pygments_lexer": "ipython3",
   "version": "3.12.4"
  }
 },
 "nbformat": 4,
 "nbformat_minor": 2
}
