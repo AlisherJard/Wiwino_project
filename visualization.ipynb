{
 "cells": [
  {
   "cell_type": "code",
   "execution_count": null,
   "metadata": {},
   "outputs": [],
   "source": [
    "# Import the necessary libraries\n",
    "import pandas as pd\n",
    "import numpy as np\n",
    "import matplotlib.pyplot as plt\n",
    "import seaborn as sns"
   ]
  },
  {
   "cell_type": "code",
   "execution_count": null,
   "metadata": {},
   "outputs": [],
   "source": [
    "# Import the csv file as pandas DataFrame\n",
    "df_raw = pd.read_csv(\"CSVs/question2.csv\")"
   ]
  },
  {
   "cell_type": "code",
   "execution_count": null,
   "metadata": {},
   "outputs": [],
   "source": [
    "df_raw.info()"
   ]
  },
  {
   "cell_type": "code",
   "execution_count": null,
   "metadata": {},
   "outputs": [],
   "source": [
    "# Create a new column to store the number of users in million\n",
    "df_raw[\"users_count_million\"] = np.round(df_raw[\"users_count\"]/1000000, 1)"
   ]
  },
  {
   "cell_type": "code",
   "execution_count": null,
   "metadata": {},
   "outputs": [],
   "source": [
    "# Keep only countries with at least one milion users\n",
    "df = df_raw[df_raw[\"users_count\"] >= 1000000]"
   ]
  },
  {
   "cell_type": "code",
   "execution_count": null,
   "metadata": {},
   "outputs": [],
   "source": [
    "plt.figure(figsize=(16, 10))\n",
    "\n",
    "sns.set_theme(style=\"darkgrid\", context=\"talk\")\n",
    "sns.color_palette(\"Paired\")\n",
    "\n",
    "ax = sns.barplot(data=df, x=\"users_count_million\", y=\"name\", orient=\"y\", estimator=\"sum\", errorbar=None, color=\"green\")\n",
    "ax.bar_label(ax.containers[0])\n",
    "ax.set(xlim=(0, 16))\n",
    "\n",
    "ax.set_xlabel(\"Number of users in million\", fontfamily='sans-serif', fontstyle='normal', fontweight='bold')\n",
    "ax.set_ylabel(\"Country\", fontfamily='sans-serif', fontstyle='normal', fontweight='bold')\n",
    "ax.set_title(\"Countries with the most users\", y=1.05, fontweight='bold')\n",
    "\n",
    "plt.show()"
   ]
  },
  {
   "cell_type": "code",
   "execution_count": null,
   "metadata": {},
   "outputs": [],
   "source": [
    "# Import the csv file as pandas DataFrame\n",
    "grapes = pd.read_csv(\"CSVs/top_grapes.csv\")\n",
    "\n",
    "# Keep only the grapes used in more tha one country\n",
    "grapes = grapes[grapes[\"countries_count\"] > 1]"
   ]
  },
  {
   "cell_type": "code",
   "execution_count": null,
   "metadata": {},
   "outputs": [],
   "source": [
    "plt.figure(figsize=(16, 10))\n",
    "\n",
    "sns.set_theme(style=\"darkgrid\", context=\"talk\")\n",
    "sns.color_palette(\"Paired\")\n",
    "\n",
    "ax = sns.barplot(data=grapes, x=\"countries_count\", y=\"grape_name\", orient=\"y\", estimator=\"sum\", errorbar=None)\n",
    "ax.bar_label(ax.containers[0])\n",
    "ax.set(xlim=(0, 16))\n",
    "\n",
    "ax.set_xlabel(\"Number of countries\", fontfamily='sans-serif', fontstyle='normal', fontweight='bold')\n",
    "ax.set_ylabel(\"Grape name\", fontfamily='sans-serif', fontstyle='normal', fontweight='bold')\n",
    "ax.set_title(\"Grappes used in many countries\", y=1.05, fontweight='bold')\n",
    "\n",
    "plt.show()"
   ]
  },
  {
   "cell_type": "code",
   "execution_count": null,
   "metadata": {},
   "outputs": [],
   "source": [
    "# Import the csv file as pandas DataFrame\n",
    "wines = pd.read_csv(\"CSVs/question5.csv\")"
   ]
  },
  {
   "cell_type": "code",
   "execution_count": null,
   "metadata": {},
   "outputs": [],
   "source": [
    "# Add the year to the wine name to distinguish wines with the same name but from different vintages\n",
    "wines[\"wine_name\"] = wines[\"wine_name\"].astype(str) + \" \" + wines[\"year\"].astype(str)"
   ]
  },
  {
   "cell_type": "code",
   "execution_count": null,
   "metadata": {},
   "outputs": [],
   "source": [
    "# Get the top five wines of each grape\n",
    "\n",
    "top5_cabernet = wines[wines[\"grape_name\"] == \"Cabernet Sauvignon\"].sort_values(\n",
    "                                by=[\"ratings_average\", \"ratings_count\"], ascending=[False, False]).head(5)\n",
    "\n",
    "top5_chardonnay = wines[wines[\"grape_name\"] == \"Chardonnay\"].sort_values(\n",
    "                                by=[\"ratings_average\", \"ratings_count\"], ascending=[False, False]).head(5)\n",
    "\n",
    "top5_merlot = wines[wines[\"grape_name\"] == \"Merlot\"].sort_values(\n",
    "                                by=[\"ratings_average\", \"ratings_count\"], ascending=[False, False]).head(5)"
   ]
  },
  {
   "cell_type": "code",
   "execution_count": null,
   "metadata": {},
   "outputs": [],
   "source": [
    "# Concatenate these three DataFrames into one\n",
    "\n",
    "top5_wines = pd.concat([top5_cabernet, top5_chardonnay, top5_merlot], ignore_index=True)\n",
    "\n",
    "top5_wines"
   ]
  },
  {
   "cell_type": "code",
   "execution_count": null,
   "metadata": {},
   "outputs": [],
   "source": [
    "plt.figure(figsize=(16, 10))\n",
    "\n",
    "sns.set_theme(style=\"darkgrid\", context=\"talk\")\n",
    "sns.color_palette(\"Paired\")\n",
    "\n",
    "ax = sns.barplot(data=top5_wines, x=\"ratings_average\", y=\"wine_name\", orient=\"y\",\n",
    "                 hue=\"grape_name\", errorbar=None, legend=\"brief\")\n",
    "\n",
    "ax.bar_label(ax.containers[0])\n",
    "ax.bar_label(ax.containers[1])\n",
    "ax.bar_label(ax.containers[2])\n",
    "ax.set(xlim=(0, 7))\n",
    "\n",
    "ax.legend(title='Grape Name')\n",
    "ax.set_xlabel(\"Ratings Average\", fontfamily='sans-serif', fontstyle='normal', fontweight='bold')\n",
    "ax.set_ylabel(\"Wine Name\", fontfamily='sans-serif', fontstyle='normal', fontweight='bold')\n",
    "ax.set_title(\"Top 5 wines of each of the three most used grappes\",\n",
    "             y=1.05, fontweight='bold', fontsize=20)\n",
    "\n",
    "plt.show()"
   ]
  }
 ],
 "metadata": {
  "kernelspec": {
   "display_name": "Python 3",
   "language": "python",
   "name": "python3"
  },
  "language_info": {
   "codemirror_mode": {
    "name": "ipython",
    "version": 3
   },
   "file_extension": ".py",
   "mimetype": "text/x-python",
   "name": "python",
   "nbconvert_exporter": "python",
   "pygments_lexer": "ipython3",
   "version": "3.12.4"
  }
 },
 "nbformat": 4,
 "nbformat_minor": 2
}
