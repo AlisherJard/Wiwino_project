{
 "cells": [
  {
   "cell_type": "markdown",
   "metadata": {},
   "source": [
    "## 1. Connection to the database"
   ]
  },
  {
   "cell_type": "code",
   "execution_count": 1,
   "metadata": {},
   "outputs": [],
   "source": [
    "# Import the necessary libraries\n",
    "import csv\n",
    "import sqlite3\n",
    "\n",
    "# Connect to the database\n",
    "connexion = sqlite3.connect(\"db/vivino.db\")\n",
    "cursor = connexion.cursor()"
   ]
  },
  {
   "cell_type": "code",
   "execution_count": 2,
   "metadata": {},
   "outputs": [
    {
     "name": "stdout",
     "output_type": "stream",
     "text": [
      "countries\n",
      "grapes\n",
      "wineries\n",
      "flavor_groups\n",
      "keywords\n",
      "regions\n",
      "most_used_grapes_per_country\n",
      "toplists\n",
      "wines\n",
      "vintages\n",
      "keywords_wine\n",
      "vintage_toplists_rankings\n"
     ]
    }
   ],
   "source": [
    "# Query the name of all tables of the database\n",
    "cursor.execute(\"\"\"\n",
    "    SELECT name\n",
    "    FROM sqlite_master\n",
    "    WHERE type='table';\n",
    "\"\"\")\n",
    "for name, in cursor.fetchall():\n",
    "    print(name)"
   ]
  },
  {
   "cell_type": "code",
   "execution_count": 3,
   "metadata": {},
   "outputs": [
    {
     "data": {
      "text/plain": [
       "[('Cabernet Sauvignon', 12), ('Merlot', 11), ('Chardonnay', 6)]"
      ]
     },
     "execution_count": 3,
     "metadata": {},
     "output_type": "execute_result"
    }
   ],
   "source": [
    "# A query to get the three most used grapes in the world\n",
    "cursor.execute(\"\"\"\n",
    "    SELECT\n",
    "        g.name AS grape_name,\n",
    "        COUNT(DISTINCT m.country_code) AS countries_count\n",
    "    FROM most_used_grapes_per_country AS m\n",
    "    LEFT JOIN grapes AS g\n",
    "        ON m.grape_id = g.id\n",
    "    GROUP BY g.name\n",
    "    ORDER BY countries_count DESC\n",
    "    LIMIT 3\n",
    "\"\"\")\n",
    "\n",
    "cursor.fetchall()"
   ]
  },
  {
   "cell_type": "code",
   "execution_count": 4,
   "metadata": {},
   "outputs": [],
   "source": [
    "cursor.execute(\"\"\"\n",
    "        SELECT\n",
    "               w.name AS wine_name,\n",
    "               s.grape_name AS grape_name,\n",
    "               w.ratings_average AS wine_ratings_average,\n",
    "               w.ratings_count AS wine_ratings_count\n",
    "        FROM wines AS w\n",
    "        LEFT JOIN regions AS r ON w.region_id = r.id\n",
    "        LEFT JOIN countries AS c ON r.country_code = c.code\n",
    "        INNER JOIN\n",
    "            -- A subquery to get the three most used grapes in the world\n",
    "            (SELECT\n",
    "                g.name AS grape_name,\n",
    "                COUNT(DISTINCT c.name) AS countries_count,\n",
    "                c.code AS country_code\n",
    "            FROM most_used_grapes_per_country AS m\n",
    "            LEFT JOIN grapes AS g\n",
    "                ON m.grape_id = g.id\n",
    "            LEFT JOIN countries AS c\n",
    "                ON m.country_code = c.code\n",
    "            GROUP BY g.name\n",
    "            ORDER BY countries_count DESC\n",
    "            LIMIT 3) AS s\n",
    "                ON c.code = s.country_code\n",
    "        ORDER BY wine_ratings_average DESC, wine_ratings_count DESC;\n",
    "\"\"\")\n",
    "\n",
    "data_01 = [[item[0] for item in cursor.description]]\n",
    "\n",
    "for item in cursor.fetchall():\n",
    "    data_01.append(list(item))"
   ]
  },
  {
   "cell_type": "code",
   "execution_count": 5,
   "metadata": {},
   "outputs": [],
   "source": [
    "with open('result_01.csv', 'w', newline='', encoding='utf-8') as file:\n",
    "    writer = csv.writer(file)\n",
    "    writer.writerows(data_01)"
   ]
  },
  {
   "cell_type": "code",
   "execution_count": 9,
   "metadata": {},
   "outputs": [
    {
     "ename": "OperationalError",
     "evalue": "unrecognized token: \"@\"",
     "output_type": "error",
     "traceback": [
      "\u001b[1;31m---------------------------------------------------------------------------\u001b[0m",
      "\u001b[1;31mOperationalError\u001b[0m                          Traceback (most recent call last)",
      "Cell \u001b[1;32mIn[9], line 8\u001b[0m\n\u001b[0;32m      5\u001b[0m cursor \u001b[38;5;241m=\u001b[39m connexion\u001b[38;5;241m.\u001b[39mcursor()\n\u001b[0;32m      7\u001b[0m \u001b[38;5;66;03m# Execute the query\u001b[39;00m\n\u001b[1;32m----> 8\u001b[0m \u001b[43mcursor\u001b[49m\u001b[38;5;241;43m.\u001b[39;49m\u001b[43mexecute\u001b[49m\u001b[43m(\u001b[49m\u001b[38;5;124;43m\"\"\"\u001b[39;49m\n\u001b[0;32m      9\u001b[0m \u001b[38;5;124;43m    SELECT\u001b[39;49m\n\u001b[0;32m     10\u001b[0m \u001b[38;5;124;43m        w.name AS wine_name,\u001b[39;49m\n\u001b[0;32m     11\u001b[0m \u001b[38;5;124;43m        v.year,\u001b[39;49m\n\u001b[0;32m     12\u001b[0m \u001b[38;5;124;43m        CASE WHEN w.name LIKE \u001b[39;49m\u001b[38;5;124;43m'\u001b[39;49m\u001b[38;5;124;43m%\u001b[39;49m\u001b[38;5;124;43mCabernet Sauvignon\u001b[39;49m\u001b[38;5;124;43m%\u001b[39;49m\u001b[38;5;124;43m'\u001b[39;49m\u001b[38;5;124;43m THEN \u001b[39;49m\u001b[38;5;124;43m'\u001b[39;49m\u001b[38;5;124;43mCabernet Sauvignon\u001b[39;49m\u001b[38;5;124;43m'\u001b[39;49m\n\u001b[0;32m     13\u001b[0m \u001b[38;5;124;43m             WHEN w.name LIKE \u001b[39;49m\u001b[38;5;124;43m'\u001b[39;49m\u001b[38;5;124;43m%\u001b[39;49m\u001b[38;5;124;43mMerlot\u001b[39;49m\u001b[38;5;124;43m%\u001b[39;49m\u001b[38;5;124;43m'\u001b[39;49m\u001b[38;5;124;43m THEN \u001b[39;49m\u001b[38;5;124;43m'\u001b[39;49m\u001b[38;5;124;43mMerlot\u001b[39;49m\u001b[38;5;124;43m'\u001b[39;49m\n\u001b[0;32m     14\u001b[0m \u001b[38;5;124;43m             WHEN w.name LIKE \u001b[39;49m\u001b[38;5;124;43m'\u001b[39;49m\u001b[38;5;124;43m%\u001b[39;49m\u001b[38;5;124;43mChardonnay\u001b[39;49m\u001b[38;5;124;43m%\u001b[39;49m\u001b[38;5;124;43m'\u001b[39;49m\u001b[38;5;124;43m THEN \u001b[39;49m\u001b[38;5;124;43m'\u001b[39;49m\u001b[38;5;124;43mChardonnay\u001b[39;49m\u001b[38;5;124;43m'\u001b[39;49m\n\u001b[0;32m     15\u001b[0m \u001b[38;5;124;43m             END AS grape_name,\u001b[39;49m\n\u001b[0;32m     16\u001b[0m \u001b[38;5;124;43m        w.ratings_average,\u001b[39;49m\n\u001b[0;32m     17\u001b[0m \u001b[38;5;124;43m        w.ratings_count,\u001b[39;49m\n\u001b[0;32m     18\u001b[0m \u001b[38;5;124;43m        r.name AS region,\u001b[39;49m\n\u001b[0;32m     19\u001b[0m \u001b[38;5;124;43m        c.name AS country\u001b[39;49m\n\u001b[0;32m     20\u001b[0m \u001b[38;5;124;43m    FROM wines AS w\u001b[39;49m\n\u001b[0;32m     21\u001b[0m \u001b[38;5;124;43m    INNER JOIN vintages AS v ON w.id = v.wine_id\u001b[39;49m\n\u001b[0;32m     22\u001b[0m \u001b[38;5;124;43m    LEFT JOIN regions AS r ON w.region_id = r.id\u001b[39;49m\n\u001b[0;32m     23\u001b[0m \u001b[38;5;124;43m    LEFT JOIN countries AS c ON r.country_code = c.code\u001b[39;49m\n\u001b[0;32m     24\u001b[0m \u001b[38;5;124;43m    WHERE to_tsvector(w.name) @@ to_tsquery(\u001b[39;49m\u001b[38;5;124;43m'\u001b[39;49m\u001b[38;5;124;43mCabernet Sauvignon\u001b[39;49m\u001b[38;5;124;43m'\u001b[39;49m\u001b[38;5;124;43m)\u001b[39;49m\n\u001b[0;32m     25\u001b[0m \u001b[38;5;124;43m        OR to_tsvector(w.name) @@ to_tsquery(\u001b[39;49m\u001b[38;5;124;43m'\u001b[39;49m\u001b[38;5;124;43mMerlot\u001b[39;49m\u001b[38;5;124;43m'\u001b[39;49m\u001b[38;5;124;43m)\u001b[39;49m\n\u001b[0;32m     26\u001b[0m \u001b[38;5;124;43m        OR to_tsvector(w.name) @@ to_tsquery(\u001b[39;49m\u001b[38;5;124;43m'\u001b[39;49m\u001b[38;5;124;43mChardonnay\u001b[39;49m\u001b[38;5;124;43m'\u001b[39;49m\u001b[38;5;124;43m)\u001b[39;49m\n\u001b[0;32m     27\u001b[0m \u001b[38;5;124;43m    ORDER BY w.ratings_average DESC, w.ratings_count DESC;\u001b[39;49m\n\u001b[0;32m     28\u001b[0m \u001b[38;5;124;43m\"\"\"\u001b[39;49m\u001b[43m)\u001b[49m\n",
      "\u001b[1;31mOperationalError\u001b[0m: unrecognized token: \"@\""
     ]
    }
   ],
   "source": [
    "# Query the wine name containing one of the following string:\n",
    "# 'Cabernet Sauvignon', 'Merlot', and 'Chardonnay'\n",
    "cursor.execute(\"\"\"\n",
    "       SELECT\n",
    "              name AS wine_name,\n",
    "              CASE WHEN name LIKE '%Cabernet Sauvignon%' THEN 'Cabernet Sauvignon'\n",
    "                   WHEN name LIKE '%Merlot%' THEN 'Merlot'\n",
    "                   WHEN name LIKE '%Chardonnay%' THEN 'Chardonnay'\n",
    "                   END AS grape_name,\n",
    "              ratings_average,\n",
    "              ratings_count\n",
    "       FROM wines\n",
    "       WHERE name LIKE '%Cabernet Sauvignon%'\n",
    "              OR name LIKE '%Merlot%'\n",
    "              OR name LIKE '%Chardonnay%'\n",
    "       ORDER BY ratings_average DESC, ratings_count DESC;\n",
    "\"\"\")\n",
    "\n",
    "data_02 = [[item[0] for item in cursor.description]]\n",
    "\n",
    "for item in cursor.fetchall():\n",
    "    data_02.append(list(item))"
   ]
  },
  {
   "cell_type": "code",
   "execution_count": 7,
   "metadata": {},
   "outputs": [],
   "source": [
    "with open('result_02.csv', 'w', newline='', encoding='utf-8') as file:\n",
    "    writer = csv.writer(file)\n",
    "    writer.writerows(data_02)"
   ]
  },
  {
   "cell_type": "code",
   "execution_count": 14,
   "metadata": {},
   "outputs": [],
   "source": [
    "# Query the wine name containing the string 'Cabernet Sauvignon'\n",
    "cursor.execute(\"\"\"\n",
    "    SELECT\n",
    "        w.name AS wine_name,\n",
    "        v.year,\n",
    "        w.ratings_average,\n",
    "        w.ratings_count,\n",
    "        (v.price_euros/v.bottle_volume_ml)*1000 AS liter_price_euros,\n",
    "        c.name AS country\n",
    "    FROM wines AS w\n",
    "    INNER JOIN vintages AS v ON w.id = v.wine_id\n",
    "    LEFT JOIN regions AS r ON w.region_id = r.id\n",
    "    LEFT JOIN countries AS c ON r.country_code = c.code\n",
    "    WHERE w.name LIKE '%Cabernet Sauvignon%'\n",
    "    ORDER BY w.ratings_average DESC, w.ratings_count DESC;\n",
    "\"\"\")\n",
    "\n",
    "data_03 = [[item[0] for item in cursor.description]]\n",
    "\n",
    "for item in cursor.fetchall():\n",
    "    data_03.append(list(item))"
   ]
  },
  {
   "cell_type": "code",
   "execution_count": 15,
   "metadata": {},
   "outputs": [],
   "source": [
    "with open('result_03.csv', 'w', newline='', encoding='utf-8') as file:\n",
    "    writer = csv.writer(file)\n",
    "    writer.writerows(data_03)"
   ]
  },
  {
   "cell_type": "code",
   "execution_count": null,
   "metadata": {},
   "outputs": [],
   "source": [
    "def query_to_csv(query: str, csv_file_name: str):\n",
    "    \"\"\"\n",
    "    Args:\n",
    "\n",
    "    Returns:\n",
    "    \"\"\"\n",
    "    connexion = sqlite3.connect(\"db/vivino.db\")\n",
    "    cursor = connexion.cursor()\n",
    "    cursor.execute(query)\n",
    "    data = [[item[0] for item in cursor.description]]\n",
    "    for item in cursor.fetchall():\n",
    "        data.append(list(item))\n",
    "    \n",
    "    with open(csv_file_name, 'w', newline='') as file:\n",
    "        writer = csv.writer(file)\n",
    "        writer.writerows(data)\n",
    "    \n",
    "    connexion.close()"
   ]
  }
 ],
 "metadata": {
  "kernelspec": {
   "display_name": "Python 3",
   "language": "python",
   "name": "python3"
  },
  "language_info": {
   "codemirror_mode": {
    "name": "ipython",
    "version": 3
   },
   "file_extension": ".py",
   "mimetype": "text/x-python",
   "name": "python",
   "nbconvert_exporter": "python",
   "pygments_lexer": "ipython3",
   "version": "3.12.4"
  }
 },
 "nbformat": 4,
 "nbformat_minor": 2
}
