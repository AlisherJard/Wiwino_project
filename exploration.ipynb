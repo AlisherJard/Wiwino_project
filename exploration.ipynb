{
 "cells": [
  {
   "cell_type": "markdown",
   "metadata": {},
   "source": [
    "\n",
    "### Connection to the database"
   ]
  },
  {
   "cell_type": "code",
   "execution_count": 1,
   "metadata": {},
   "outputs": [],
   "source": [
    "# Import the necessary libraries\n",
    "import csv\n",
    "import sqlite3\n",
    "\n",
    "# Connect to the database\n",
    "connexion = sqlite3.connect(\"db/vivino.db\")\n",
    "cursor = connexion.cursor()"
   ]
  },
  {
   "cell_type": "code",
   "execution_count": 2,
   "metadata": {},
   "outputs": [
    {
     "name": "stdout",
     "output_type": "stream",
     "text": [
      "countries\n",
      "grapes\n",
      "wineries\n",
      "flavor_groups\n",
      "keywords\n",
      "regions\n",
      "most_used_grapes_per_country\n",
      "toplists\n",
      "wines\n",
      "vintages\n",
      "keywords_wine\n",
      "vintage_toplists_rankings\n"
     ]
    }
   ],
   "source": [
    "# Query the name of all tables of the database\n",
    "cursor.execute(\"\"\"\n",
    "    SELECT name\n",
    "    FROM sqlite_master\n",
    "    WHERE type='table';\n",
    "\"\"\")\n",
    "for name, in cursor.fetchall():\n",
    "    print(name)"
   ]
  },
  {
   "cell_type": "markdown",
   "metadata": {},
   "source": [
    "\n",
    "### Query 1"
   ]
  },
  {
   "cell_type": "code",
   "execution_count": 3,
   "metadata": {},
   "outputs": [
    {
     "data": {
      "text/plain": [
       "[('Cabernet Sauvignon', 12), ('Merlot', 11), ('Chardonnay', 6)]"
      ]
     },
     "execution_count": 3,
     "metadata": {},
     "output_type": "execute_result"
    }
   ],
   "source": [
    "# A query to get the three most used grapes in the world\n",
    "cursor.execute(\"\"\"\n",
    "    SELECT\n",
    "        g.name AS grape_name,\n",
    "        COUNT(DISTINCT m.country_code) AS countries_count\n",
    "    FROM most_used_grapes_per_country AS m\n",
    "    LEFT JOIN grapes AS g\n",
    "        ON m.grape_id = g.id\n",
    "    GROUP BY g.name\n",
    "    ORDER BY countries_count DESC\n",
    "    LIMIT 3\n",
    "\"\"\")\n",
    "\n",
    "cursor.fetchall()"
   ]
  },
  {
   "cell_type": "code",
   "execution_count": 4,
   "metadata": {},
   "outputs": [],
   "source": [
    "# Query the wine name containing one of the following string:\n",
    "# 'Cabernet Sauvignon', 'Merlot', and 'Chardonnay'\n",
    "cursor.execute(\"\"\"\n",
    "    SELECT\n",
    "        w.name AS wine_name,\n",
    "        v.year,\n",
    "        CASE WHEN w.name LIKE '%Cabernet Sauvignon%' THEN 'Cabernet Sauvignon'\n",
    "             WHEN w.name LIKE '%Merlot%' THEN 'Merlot'\n",
    "             WHEN w.name LIKE '%Chardonnay%' THEN 'Chardonnay'\n",
    "             END AS grape_name,\n",
    "        w.ratings_average,\n",
    "        w.ratings_count,\n",
    "        r.name AS region,\n",
    "        c.name AS country\n",
    "    FROM wines AS w\n",
    "    INNER JOIN vintages AS v ON w.id = v.wine_id\n",
    "    LEFT JOIN regions AS r ON w.region_id = r.id\n",
    "    LEFT JOIN countries AS c ON r.country_code = c.code\n",
    "    WHERE w.name LIKE '%Cabernet Sauvignon%'\n",
    "        OR w.name LIKE '%Merlot%'\n",
    "        OR w.name LIKE '%Chardonnay%'\n",
    "    ORDER BY w.ratings_average DESC, w.ratings_count DESC;\n",
    "\"\"\")\n",
    "\n",
    "data_01 = [[item[0] for item in cursor.description]]\n",
    "\n",
    "for item in cursor.fetchall():\n",
    "    data_01.append(list(item))\n",
    "\n",
    "\n",
    "with open('result_01.csv', 'w', newline='', encoding='utf-8') as file:\n",
    "    writer = csv.writer(file)\n",
    "    writer.writerows(data_01)"
   ]
  },
  {
   "cell_type": "markdown",
   "metadata": {},
   "source": [
    "### Query 2"
   ]
  },
  {
   "cell_type": "code",
   "execution_count": 5,
   "metadata": {},
   "outputs": [],
   "source": [
    "# Query the wine name containing the string 'Cabernet Sauvignon'\n",
    "cursor.execute(\"\"\"\n",
    "    SELECT\n",
    "        w.name AS wine_name,\n",
    "        v.year,\n",
    "        w.ratings_average,\n",
    "        w.ratings_count,\n",
    "        (v.price_euros/v.bottle_volume_ml)*1000 AS liter_price_euros,\n",
    "        c.name AS country\n",
    "    FROM wines AS w\n",
    "    INNER JOIN vintages AS v ON w.id = v.wine_id\n",
    "    LEFT JOIN regions AS r ON w.region_id = r.id\n",
    "    LEFT JOIN countries AS c ON r.country_code = c.code\n",
    "    WHERE w.name LIKE '%Cabernet Sauvignon%'\n",
    "    ORDER BY w.ratings_average DESC, w.ratings_count DESC;\n",
    "\"\"\")\n",
    "\n",
    "data_02 = [[item[0] for item in cursor.description]]\n",
    "\n",
    "for item in cursor.fetchall():\n",
    "    data_02.append(list(item))\n",
    "\n",
    "with open('result_02.csv', 'w', newline='', encoding='utf-8') as file:\n",
    "    writer = csv.writer(file)\n",
    "    writer.writerows(data_02)"
   ]
  },
  {
   "cell_type": "markdown",
   "metadata": {},
   "source": [
    "\n",
    "### Query 3"
   ]
  },
  {
   "cell_type": "code",
   "execution_count": 6,
   "metadata": {},
   "outputs": [],
   "source": [
    "cursor.execute(\"\"\"\n",
    "    SELECT\n",
    "        v.name AS vintage,\n",
    "        v.year AS vintage_year,\n",
    "        vtr.rank,\n",
    "        vtr.previous_rank,\n",
    "        REPLACE(t.name, 'Bestsellers in ', '') AS bestseller_region,\n",
    "        c.name AS bestseller_country,\n",
    "        price_euros,\n",
    "        bottle_volume_ml\n",
    "    FROM vintages AS v\n",
    "    LEFT JOIN vintage_toplists_rankings AS vtr ON v.id = vtr.vintage_id\n",
    "    LEFT JOIN toplists AS t ON vtr.top_list_id = t.id\n",
    "    LEFT JOIN countries AS c ON t.country_code = c.code\n",
    "    WHERE t.name LIKE 'Bestsellers%';\n",
    "\"\"\")\n",
    "\n",
    "data_03 = [[item[0] for item in cursor.description]]\n",
    "\n",
    "for item in cursor.fetchall():\n",
    "    data_03.append(list(item))\n",
    "\n",
    "with open('result_03.csv', 'w', newline='', encoding='utf-8') as file:\n",
    "    writer = csv.writer(file)\n",
    "    writer.writerows(data_03)"
   ]
  },
  {
   "cell_type": "markdown",
   "metadata": {},
   "source": [
    "\n",
    "### Query 4"
   ]
  },
  {
   "cell_type": "code",
   "execution_count": 7,
   "metadata": {},
   "outputs": [],
   "source": [
    "cursor.execute(\"\"\"\n",
    "    SELECT\n",
    "        v.name AS vintage,\n",
    "        v.year AS vintage_year,\n",
    "        vtr.rank,\n",
    "        vtr.previous_rank,\n",
    "        CAST(SUBSTR(t.name, 10, 4) AS int) AS award_year,\n",
    "        SUBSTR(t.name, INSTR(t.name, ':')+2) AS award_name,\n",
    "        price_euros,\n",
    "        bottle_volume_ml\n",
    "    FROM vintages AS v\n",
    "    LEFT JOIN vintage_toplists_rankings AS vtr ON v.id = vtr.vintage_id\n",
    "    LEFT JOIN toplists AS t ON vtr.top_list_id = t.id\n",
    "    WHERE t.name LIKE 'Vivino%';\n",
    "\"\"\")\n",
    "\n",
    "data_04 = [[item[0] for item in cursor.description]]\n",
    "\n",
    "for item in cursor.fetchall():\n",
    "    data_04.append(list(item))\n",
    "\n",
    "with open('result_04.csv', 'w', newline='', encoding='utf-8') as file:\n",
    "    writer = csv.writer(file)\n",
    "    writer.writerows(data_04)"
   ]
  },
  {
   "cell_type": "code",
   "execution_count": 8,
   "metadata": {},
   "outputs": [],
   "source": [
    "def query_to_csv(query: str, csv_file_name: str):\n",
    "    \"\"\"\n",
    "    Args:\n",
    "\n",
    "    Returns:\n",
    "    \"\"\"\n",
    "    connexion = sqlite3.connect(\"db/vivino.db\")\n",
    "    cursor = connexion.cursor()\n",
    "    cursor.execute(query)\n",
    "    data = [[item[0] for item in cursor.description]]\n",
    "    for item in cursor.fetchall():\n",
    "        data.append(list(item))\n",
    "    \n",
    "    with open(csv_file_name, 'w', newline='') as file:\n",
    "        writer = csv.writer(file)\n",
    "        writer.writerows(data)\n",
    "    \n",
    "    connexion.close()"
   ]
  }
 ],
 "metadata": {
  "kernelspec": {
   "display_name": "Python 3",
   "language": "python",
   "name": "python3"
  },
  "language_info": {
   "codemirror_mode": {
    "name": "ipython",
    "version": 3
   },
   "file_extension": ".py",
   "mimetype": "text/x-python",
   "name": "python",
   "nbconvert_exporter": "python",
   "pygments_lexer": "ipython3",
   "version": "3.12.4"
  }
 },
 "nbformat": 4,
 "nbformat_minor": 2
}
